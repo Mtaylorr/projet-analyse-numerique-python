{
 "cells": [
  {
   "cell_type": "markdown",
   "metadata": {
    "colab_type": "text",
    "id": "9764QJY43HxF"
   },
   "source": [
    "<h1> Optimisation de la température d’un four </h1>"
   ]
  },
  {
   "cell_type": "markdown",
   "metadata": {
    "colab_type": "text",
    "id": "EglAoPleUjuH"
   },
   "source": [
    "# Table de matières :\n",
    "<ol>\n",
    "<li> Objectif du travail\n",
    "<li> Modélisation et formulation du problème <ul>\n",
    "<li>Cas où $f=0$ et en absence de $\\Omega_{c}$ (Question 2 page 4)</li>\n",
    "</ul>\n",
    "</li>\n",
    "<li> Problème stationnaire \n",
    "<ul>\n",
    "    <li> Résolution par différence finies</li>\n",
    "    <li> Différentes fonctions utiles</li>\n",
    "    <li> Calcul de $T_{st}^{0}$ (Question 1 - 2  page 7)</li>\n",
    "    <li> $1^{er}$ cas (Questions 1-2-3-4 page 8)</li>\n",
    "    <li> $2^{ème}$ cas (Question 5 page 8)</li>\n",
    "    <li> $3^{ème}$ cas (Question 6 page 8)</li>\n",
    "</ul>\n",
    "</li>\n",
    "<li> Problème transitoire\n",
    "<ul>\n",
    "    <li>Schéma explicite</li>\n",
    "    <li>Schéma implicite</li>\n",
    "</ul>\n",
    "</li>\n",
    "<li>Etude du problème inverse\n",
    "<ul>\n",
    "    <li>Calcul des intégrales</li>\n",
    "    <li>$1^{er}$ cas</li>\n",
    "    <li>$2^{ème}$ cas</li>\n",
    "    <li>$3^{ème}$ cas</li>\n",
    "    <li>Conclusion</li>\n",
    "</ul>\n",
    "</li>\n",
    "</ol>"
   ]
  },
  {
   "cell_type": "markdown",
   "metadata": {
    "colab_type": "text",
    "id": "Fe-sDT1Z3J5q"
   },
   "source": [
    "# 1.Objectif du travail \n",
    "On considère un four représenté par un domaine $\\Omega  = \\Omega_{a} \\cup  \\Omega_{c} \\in \\mathbb{R}^{2}$. On se propose de\n",
    "calculer la température à l’intérieur du four, et en particulier la température de l’objet mis à cuire à partir de la valeur de chaque résistance,."
   ]
  },
  {
   "cell_type": "markdown",
   "metadata": {
    "colab_type": "text",
    "id": "Uh2SIdux45hR"
   },
   "source": [
    "# 2.Modélisation et formulation du problème \n",
    "Le four est modélisé par un domaine rectangulaire $\\Omega = ]0,L_{x}[ \\times ]0,L_{y}[$ de longeur $L_{x}$ et de largeur $L_{y}$. La cuissons occupe le domaine rectangulaire $\\Omega_{c}= ]\\frac{L_{x}}{4},\\frac{3L_{x}}{4}[ \\times]\\frac{L_{y}}{4},\\frac{3L_{y}}{4}[$ et le reste\n",
    "du domaine est occupé par l'air ( c'est à dire  $\\Omega_{a} = \\Omega \\setminus \\Omega_{c}$ ). On note par $\\partial \\Omega$ (resp $\\partial \\Omega_{c}$ ) la frontière de $\\Omega$ (resp $\\Omega_{c}$ qui est composé par quatre segments $\\Gamma_{i}, i = 1,...,4$ (resp $\\gamma_{i}, i = 1,...,4$ ).\n",
    "\n",
    "On suppose que sur les deux parties de bord $\\Gamma_{1}$ et $\\Gamma_{3}$, la température est fixée à $T_{b}$ et $T_{h}$ respectivement et que $\\Gamma_{2}$ et $\\Gamma_{4}$ sont parfaitement isolées.\n",
    "Le problème physique de diffusion de la chaleur s’écrit alors sous la forme :\n",
    "\n",
    "$$(1)\\begin{cases}\n",
    "  \\frac{\\partial T}{\\partial t}(x,t) - div(\\kappa \\nabla T)(x,t) = f(x) , \\forall  x \\in \\Omega, t \\geq 0, \\\\\n",
    "  T = T_{b} , sur\\hspace{0.2cm} \\Gamma_{1}, \\\\\n",
    "   T = T_{h} , sur\\hspace{0.2cm} \\Gamma_{3}, \\\\\n",
    "   \\kappa \\frac{\\partial T}{\\partial n} = 0, sur \\hspace{0.2cm} \\Gamma_{2} \\cup \\Gamma_{4} \\\\\n",
    "   T(x,0) = T_{0}(x) \\hspace{0.2cm} \\forall x \\in \\Omega \n",
    "\\end{cases}\n",
    "$$\n",
    "\n",
    "où $\\kappa$ désigne la conductivé thermique , qui est égale à $\\kappa_{a}$ dans $\\Omega_{a}$ et $\\kappa_{c}$ dans $\\Omega_{c}$ , et $f$  représente la source de chaleur .\n",
    "\n",
    "On décompose le probleme en 2 sous problèmes : \n",
    "\n",
    "Un  problème stationnaire :\n",
    "\n",
    "$$(2)\\begin{cases} \n",
    "  - div(\\kappa \\nabla T) = f \\hspace{0.2cm} dans \\hspace{0.2cm} \\Omega \\ \\\\ \n",
    "    T = T_{b} , sur\\hspace{0.2cm} \\Gamma_{1}, \\\\\n",
    "   T = T_{h} , sur\\hspace{0.2cm} \\Gamma_{3}, \\\\\n",
    "   \\kappa \\frac{\\partial T}{\\partial n} = 0, sur \\hspace{0.2cm} \\Gamma_{2} \\cup \\Gamma_{4}\n",
    "\\end{cases}\n",
    "$$\n",
    "\n",
    "et un probleme transitoire :\n",
    "\n",
    "$$(3)\\begin{cases}\n",
    "  \\frac{\\partial T}{\\partial t}(x,t) - div(\\kappa \\nabla T)(x,t) = 0 , \\forall  x \\in \\Omega, t \\geq 0, \\\\\n",
    "  T = 0 , sur\\hspace{0.2cm} \\Gamma_{1}, \\\\\n",
    "   T = 0 , sur\\hspace{0.2cm} \\Gamma_{3}, \\\\\n",
    "   \\kappa \\frac{\\partial T}{\\partial n} = 0, sur \\hspace{0.2cm} \\Gamma_{2} \\cup \\Gamma_{4} \\\\\n",
    "   T(x,0) = T_{0}(x) - T_{st}(x) \\hspace{0.2cm} \\forall x \\in \\Omega \n",
    "\\end{cases}\n",
    "$$\n",
    "\n",
    "où $T_{st}$ est la solution du problème stationnaire.\n",
    "\n",
    "Donc la solution de notre problème Sera de la forme $T(x,t) = T_{st}(x) + T_{tr}(x,t)$ qui est facile à démontrer grâce à la linéarité du système (Question 1 page 4).\n",
    "\n",
    "\n",
    "\n",
    "\n",
    "\n",
    "\n"
   ]
  },
  {
   "cell_type": "markdown",
   "metadata": {
    "colab_type": "text",
    "id": "TQFGKREDOBzm"
   },
   "source": [
    "\n",
    "### Cas où $f=0$ et en absence de $\\Omega_{c}$ (Question 2 page 4):\n",
    "#### Résolution du système $(2)$:\n",
    "Suite à une constatation physique on conclut que $T_{st}$ dépend seulement de $y$ et par suite l'equation sera de la forme :\n",
    "$$\\frac{\\partial^{2}T_{st}}{\\partial y^{2}} =0 $$\n",
    "\n",
    "Donc la solution est affine en $y$ , en tenant compte des conditions aux limites on obtient :\n",
    "\n",
    "$$T_{st}(x,y) = \\frac{(T_{h} - T_{b})}{L_{y}} . y + T_{b}$$\n",
    "#### Résolution du système $(3)$:\n",
    "Suite à une constatation physique on conclut que $T_{tr}$ dépend seulement de $y$ et $t$ et par suite l'equation sera de la forme :\n",
    "$$\\begin{cases}\\frac{\\partial T_{tr}}{\\partial t} - \\kappa \\frac{\\partial^{2}T_{tr}}{\\partial y^{2}} =0 \\\\\n",
    "T_{tr} = 0 , sur\\hspace{0.2cm} \\Gamma_{1}, \\\\\n",
    "T_{tr} = 0 , sur\\hspace{0.2cm} \\Gamma_{3}, \\\\\n",
    "T_{tr}(X,0) = T_{0}(X) - T_{st}(X) = g(y)  \\hspace{0.2cm} \\forall X \\in \\Omega \n",
    "\\end{cases}\n",
    "$$\n",
    "On utilise alors la méthode de séparation des variables en supposant que la solution s'écrit comme le produit de deux fonctions indépendantes:\n",
    "$$ T_{tr}(y,t)=H(y)E(t)$$\n",
    "Comme $T_{tr}$ est solution de l'équation aux dérivées partielles, on a :\n",
    "$$\\frac{E^{\\prime}(t)}{\\kappa E(t)} =  \\frac{H^{\\prime \\prime}(y)}{H(y)} $$\n",
    "Deux fonctions égales et ne dépendant pas de la même variable sont nécessairement constantes, égales à une valeur notée ici $-\\lambda$, soit :\n",
    "$$E^{\\prime}(t) = -\\lambda \\kappa E(t)$$\n",
    "$$H^{\\prime \\prime}(y) = -\\lambda H(y) $$\n",
    "On vérifie que les conditions aux limites interdisent le cas $\\lambda \\leq 0$ pour avoir des solutions non nulles :\n",
    "<ul>\n",
    "<li>\n",
    "Supposons $\\lambda \\leq 0$. Il existe alors des constantes réelles $B$ et $C$ telles que\n",
    "$$H(y)=Be^{\\sqrt{-\\lambda}y}+Ce^{-\\sqrt{-\\lambda}y}$$\n",
    "Or les conditions aux limites imposent $H(0) = 0 = H(L_{y})$, soit $B = 0 = C$, et donc $T_{tr}$ est nulle.\n",
    "</li>\n",
    "<li>\n",
    "Supposons $\\lambda = 0$. Il existe alors de même des constantes réelles $B$, $C$ telles que $H(y) = By + C$. Une fois encore, les conditions aux limites entraînent $H$ nulle, et donc $T_{tr}$ nulle.\n",
    "</li>\n",
    "</ul>\n",
    "Il reste donc le cas $\\lambda \\gt 0$. Il existe alors des constantes réelles $A$, $B$, $C$ telles que:\n",
    "$$E(t)=Ae^{-\\lambda \\kappa t} $$\n",
    "$$H(y)=B\\sin(\\sqrt{\\lambda}y)+C \\cos(\\sqrt{\\lambda}y) $$\n",
    "Les conditions aux limites imposent maintenant $C = 0$ et qu'il existe un entier positif $n$ tel que\n",
    "$$ \\sqrt{\\lambda} = n \\frac{\\pi}{L_{y}}$$\n",
    "On obtient ainsi une forme de la solution. Toutefois, l'équation étudiée est linéaire, donc toute combinaison linéaire de solutions est elle-même solution. Ainsi, la forme générale de la solution est donnée par :\n",
    "$$T_{tr}(y,t)= \\sum_{n=1}^{+\\infty}B_{n}\\sin(\\frac{n\\pi y}{L_{y}})e^{-\\frac{n^{2}\\pi^{2}\\kappa t}{L_{y}^{2}}} $$\n",
    "La valeur de la condition initiale donne :\n",
    "$$g(y)=T_{tr}(y,0)=\\sum_{n=1}^{+\\infty}B_{n}\\sin(\\frac{n\\pi y}{L_{y}})$$\n",
    "On reconnait un développement en série de Fourier, ce qui donne la valeur des coefficients :\n",
    "$$B_{n}= \\frac{2}{L_{y}} \\int_{0}^{L_{y}}g(y)\\sin(\\frac{n\\pi y}{L_{y}})dy$$"
   ]
  },
  {
   "cell_type": "markdown",
   "metadata": {
    "colab_type": "text",
    "id": "_0S9XN10ONts"
   },
   "source": [
    "# 3.Problème stationnaire \n",
    "Soit $T_{st}^{0}$ la solution du problème (2) pour $f=0$ et $T_{st}^{r}$ la solution du problème (2) avec $T_{b} =  T_{h} = 0$  alors $T_{st}  = T_{st}^{0} +T_{st}^{r} $ est solution du problème (2) grâce à la linéarité des operateurs utilisés dans le système ( $T_{st}^{0}$ contribue dans les conditions limites $\\Gamma_{1}$ et $\\Gamma_{3}$ et $T_{st}^{r}$ contribue avec $f$ ) (Question 1 page 5)\n",
    "\n",
    "### Cas où $T_{b} = T_{h} = 0$ dans le problème 2 (Question 2 page 5) :\n",
    "On va montrer que $T$ varie linéairement avec $f$ :\n",
    "\n",
    "\n",
    "Montrons que $p.T$ est solution pour la source $p.f$ avec $p \\in \\mathbb{R}$\n",
    "\n",
    "Si on injecte $(p.T)$ dans le systeme (2)  on obtient :\n",
    "<ul>\n",
    "<li> 2ème terme de la 1ère equation devient $p.f$ </li>\n",
    "<li> $p.T = p.0 = 0$ sur $\\Gamma_{1}$ et $\\Gamma_{3}$ car $T_{b}=T_{h}=0$ </li>\n",
    "<li> $\\kappa \\frac{\\partial p.T}{\\partial n} =p.\\kappa \\frac{\\partial T}{\\partial n} = 0$, sur $\\Gamma_{2} \\cup \\Gamma_{4}$\n",
    "</ul>\n",
    "d'où la linéarité \n",
    "\n",
    "### Démarche de résolution\n",
    "\n",
    "Afin de résoudre le problèeme (2)  on va : \n",
    "<ul>\n",
    "  <li> Résoudre le probleme (2) avec $f=0$  qui sera notée  $T_{st}^{0}$</li>\n",
    "  <li> Résoudre , pour $ 1 \\leq i \\leq N_{r}$ , le probleme (2) avec une résistance unitée $r_{i}$ en prenant $f_{i} = 1$ au voisinage du point de coordonnées $(x_{i}, y_{i})$ et $0$ ailleurs avec $T_{b} = T_{h} = 0$  et qui sera notés $T_{st}^{i}$\n",
    "</ul>\n",
    "\n",
    "Ainsi la solution du problème (2) sera :\n",
    "\n",
    "$$T_{st} = T_{st}^{0} + \\sum_{i=1}^{N_{r}} r_{i}T_{st}^{i}$$"
   ]
  },
  {
   "cell_type": "markdown",
   "metadata": {
    "colab_type": "text",
    "id": "AMuJoKYoYSJS"
   },
   "source": [
    "## Résolution par différence finies\n",
    "### Consistance du schéma :\n",
    "Le schéma est dit consistant si et seuelemtn si l'erreur $\\epsilon_{i,j}^{n} \\rightarrow 0 $ quand $  h_{x} \\rightarrow 0$ , $ h_{y} \\rightarrow 0$ et $ \\Delta t \\rightarrow 0$.\n",
    "\n",
    "Pour une fonction $f$ deux fois dérivable , on a d'aprés le développement de taylor au point $u$ :\n",
    "$$\\frac{f(u+\\Delta u) - 2 f(u) + f(u-\\Delta u)}{\\Delta u^{2}} = \\frac{\\partial^{2}f(y)}{\\partial u^{2}} + O(\\Delta u^{2})$$\n",
    "$$ \\frac{f(u+\\Delta u)-f(u)}{\\Delta u} = \\frac{\\partial f(u)}{\\Delta u} + O(\\Delta u)$$\n",
    "\n",
    "D'ou on conclut que le schéma qu'on va prendre est d'ordre $2$ en $x$ et $y$ et d'ordre $1$ en $t$\n",
    "\n",
    "\n",
    "\n",
    "Pour discretiser le domaine $\\Omega$ on choisit deux entiers $n_{x}$ et $n_{y}$ et on pose :\n",
    "\n",
    "* $x_{i} = i * h_{x} , 0 \\leq i \\leq 4n_{x} $\n",
    "* $y_{i} = i * h_{y} , 0 \\leq i \\leq 4n_{y} $\n",
    "\n",
    "avec $h_{x} = \\frac{L_{x}}{4n_{x}}$ et $h_{y} = \\frac{L_{y}}{4n_{y}}$ sont les deux pas de maillage du rectangle .\n",
    "\n",
    "Le problème se ramène a un système matricielle linéaire de la forme $ A * T_{app} = F$ dont l'inconnu est $T_{app}$."
   ]
  },
  {
   "cell_type": "markdown",
   "metadata": {
    "colab_type": "text",
    "id": "FhwGDif6ZeUr"
   },
   "source": [
    "#### Importation des bibliothèques \n"
   ]
  },
  {
   "cell_type": "code",
   "execution_count": null,
   "metadata": {
    "colab": {},
    "colab_type": "code",
    "id": "LTzOzRCzZdR8"
   },
   "outputs": [],
   "source": [
    "import matplotlib.pyplot as plt\n",
    "from IPython.display import HTML\n",
    "from IPython.display import Image, display\n",
    "import matplotlib.image as mpimg\n",
    "from mpl_toolkits.mplot3d.axes3d import Axes3D\n",
    "import matplotlib.animation as animation\n",
    "import matplotlib\n",
    "import seaborn as sns\n",
    "import numpy as np\n",
    "import scipy \n",
    "import imageio\n",
    "#%matplotlib inline"
   ]
  },
  {
   "cell_type": "markdown",
   "metadata": {
    "colab_type": "text",
    "id": "8OhxDmthZopV"
   },
   "source": [
    "#### Déclaration des variables"
   ]
  },
  {
   "cell_type": "code",
   "execution_count": null,
   "metadata": {
    "colab": {},
    "colab_type": "code",
    "id": "_fqgiNWMZn-3"
   },
   "outputs": [],
   "source": [
    "Lx = 2. # longueur\n",
    "Ly = 1. # largeur\n",
    "\n",
    "Ka = 1 # conductivité thermique de l'air\n",
    "Kc = 10  #conductivié thermique dans la cuisson\n",
    "\n",
    "nx = 8\n",
    "ny = 6\n",
    "\n",
    "N = (4*nx+1)*(4*ny-1)\n",
    "Nx = (4*nx+1)\n",
    "Ny = (4*ny-1)\n",
    "\n",
    "hx = Lx/(4*nx) # pas dans la directon x\n",
    "hy = Ly/(4*ny) # pas dans la direction y\n",
    "\n",
    "\n",
    "Tb = 50\n",
    "Th = 100\n",
    "\n",
    "alpha_a = Ka / (hx**2)\n",
    "beta_a = Ka / (hy**2)\n",
    "alpha_c = (Kc) / (hx**2)\n",
    "beta_c = (Kc) /(hy**2)"
   ]
  },
  {
   "cell_type": "markdown",
   "metadata": {
    "colab_type": "text",
    "id": "2YFWcckdXmjD"
   },
   "source": [
    "## Différentes fonctions utiles"
   ]
  },
  {
   "cell_type": "markdown",
   "metadata": {
    "colab_type": "text",
    "id": "ccLmhAWaXsx_"
   },
   "source": [
    "### Résolution avec la fonction prédéfinie numpy.linalg.solve() :\n",
    "Cette méthode est lente car sa complexité est égale à $O((4n_{x}+1)^3(4n_{y}+1)^{3} = O(4096 . n_{x}^{3}. n_{y}^{3})$"
   ]
  },
  {
   "cell_type": "code",
   "execution_count": null,
   "metadata": {
    "colab": {},
    "colab_type": "code",
    "id": "DeC_Ic_aXyV6"
   },
   "outputs": [],
   "source": [
    "def resout_solve(A,F):\n",
    "  return np.linalg.solve(A,F)\n"
   ]
  },
  {
   "cell_type": "markdown",
   "metadata": {
    "colab_type": "text",
    "id": "-BJMgPfC8P8W"
   },
   "source": [
    "### Résolution en utilisant sparse matrix  grâce à la forme creuse de la matrice :"
   ]
  },
  {
   "cell_type": "code",
   "execution_count": null,
   "metadata": {
    "colab": {},
    "colab_type": "code",
    "id": "I6ieWi5B8mHD"
   },
   "outputs": [],
   "source": [
    "def resout_sparse(A,F):\n",
    "  AA = scipy.sparse.csr_matrix(A)\n",
    "  return scipy.sparse.linalg.spsolve(AA,F)"
   ]
  },
  {
   "cell_type": "markdown",
   "metadata": {
    "colab_type": "text",
    "id": "-_s0LgDLX2Bd"
   },
   "source": [
    "\n",
    "### Résolution avec la méthode des matrices tridiagonales\n",
    " [Source](https://en.wikipedia.org/wiki/Tridiagonal_matrix_algorithm)\n",
    "\n",
    " Cette méthode donne des résultats rapides même si $n_{x}$ et $n_{y}$ sont plus grand grâce à sa complexité qui est égale à $O((4n_{x}+1)^{3}(4n_{y}-1)) = O(256.n_{x}^{3}.n_{y})$\n",
    "\n",
    " Explication de la méthode  : \n",
    "\n",
    "Pour un système de la forme  : $ A_{i}X_{i-1} + B_{i}X_{i} + C_{i}X_{i+1} = D_{i}$ avec $A_{1} = C_{n} = 0$ et $A_{i} , B_{i}, C_{i}$ des matrices carrées de taille $N_{x}$ et $X_{i}, D_{i}$ des vecteurs de taille $N_{x}$\n",
    "\n",
    "on peut le représenter de cette manière : \n",
    "\n",
    "$$\n",
    "\\begin{pmatrix}\n",
    "B_{1} & C_{1} & && 0 \\\\\n",
    "A_{1} & B_{2} & C_{2} & &0 \\\\\n",
    "& A_{3} & B_{3} & \\ddots & \\\\\n",
    "& & \\ddots & \\ddots & D_{n-1} \\\\\n",
    "0 & & & A_{n} & B_{n} \n",
    "\\end{pmatrix} \\begin{pmatrix}\n",
    "X_{1}\\\\\n",
    "X_{2}\\\\\n",
    "X_{3}\\\\\n",
    "\\vdots \\\\\n",
    "X_{n}\n",
    "\\end{pmatrix} = \\begin{pmatrix}\n",
    "D_{1}\\\\\n",
    "D_{2}\\\\\n",
    "D_{3}\\\\\n",
    "\\vdots \\\\\n",
    "D_{n}\n",
    "\\end{pmatrix}\n",
    "$$\n",
    "\n",
    "L'algorithme est constitué de 2 étaps :\n",
    "<ul> \n",
    "<li>\n",
    "étape ascendente :\n",
    " \n",
    " pour $i =  2, 3 .., n$ faire: \n",
    "\n",
    " $\\omega_{i} = B_{i-1}^{-1}.A_{i}$\n",
    "\n",
    " $B_{i} := B_{i} - \\omega_{i}.C_{i-1}$\n",
    "\n",
    " $D_{i} := D_{i} -  \\omega_{i}.D_{i-1}$\n",
    "</li>\n",
    "<li>\n",
    "étape déscendente :\n",
    "\n",
    "$X_{n} = B_{n}^{-1}.D_{n}$\n",
    "\n",
    "$X_{i} = B_{i}^{-1} .(D_{i}-C_{i}.X_{i+1})$, pour $ i = n-1, n-2 , ... 1$\n",
    "</li>\n",
    "</ul>\n"
   ]
  },
  {
   "cell_type": "code",
   "execution_count": null,
   "metadata": {
    "colab": {},
    "colab_type": "code",
    "id": "pfToq9xBX9JP"
   },
   "outputs": [],
   "source": [
    "def get_a(A,i):\n",
    "  #fonction pour le bloc A_i\n",
    "  return A[i*Nx:(i+1)*Nx,(i-1)*Nx:i*Nx] \n",
    "def get_b(A,i):\n",
    "  #fonction pour le bloc B_i\n",
    "  return A[i*Nx:(i+1)*Nx,(i)*Nx:(i+1)*Nx] \n",
    "def get_c(A,i):\n",
    "  #fonction pour le bloc C_i\n",
    "  return A[i*Nx:(i+1)*Nx,(i+1)*Nx:(i+2)*Nx] \n",
    "def get_d(D,i):\n",
    "  #fonction pour le bloc D_i\n",
    "  return D[i*Nx:(i+1)*Nx,0]\n",
    "  \n",
    "# fonction principale\n",
    "def resout_tridiag(A,F):\n",
    "  d=np.copy(F)\n",
    "\n",
    "  caches_w=[0] # pour stocker les Wi\n",
    "  caches_b=[get_b(A,0)] # pour stocker les Bi\n",
    "  caches_d=[get_d(d,0)] # pour stocker les Di\n",
    "\n",
    "  for i in range(1,4*ny-1):\n",
    "    caches_w.append(np.dot(get_a(A,i),np.linalg.inv(caches_b[i-1])))\n",
    "    caches_b.append(get_b(A,i) - np.dot(caches_w[i],get_c(A,i-1)))\n",
    "    caches_d.append(get_d(d,i) - np.dot(caches_w[i],caches_d[i-1]))\n",
    "\n",
    "  T_new = np.zeros((N,1))\n",
    "  T_new[N-Nx:N,0] = np.dot(np.linalg.inv(caches_b[4*ny-2]),caches_d[4*ny-2])\n",
    "\n",
    "  for i in range(4*ny-3,-1,-1):\n",
    "    T_new[i*Nx:(i+1)*Nx,0] = np.dot( np.linalg.inv(caches_b[i]),  caches_d[i] - np.dot(get_c(A,i),T_new[(i+1)*Nx:(i+2)*Nx,0]) )\n",
    "  return T_new\n",
    "  "
   ]
  },
  {
   "cell_type": "markdown",
   "metadata": {
    "colab_type": "text",
    "id": "K5T_xVji-Jlh"
   },
   "source": [
    "### Représentation  3D :\n"
   ]
  },
  {
   "cell_type": "code",
   "execution_count": null,
   "metadata": {
    "colab": {},
    "colab_type": "code",
    "id": "9vas3ZCR-S0M"
   },
   "outputs": [],
   "source": [
    "import time\n",
    "def show3D(A,title):\n",
    "    # pour représenter l'image en 3D\n",
    "    m = [i*hx for i in range(A.shape[1])]\n",
    "    p = [i*hy for i in range(A.shape[0])]\n",
    "    X,Y = np.meshgrid(m, p)\n",
    "    fig = plt.figure(figsize=(14,10))\n",
    "    axe = fig.add_subplot(1,1,1, projection='3d')\n",
    "    axe.view_init(30, 10)\n",
    "    plt.title(title);\n",
    "    pp = axe.plot_surface(X, Y, A, rstride=1, cstride=1, cmap=matplotlib.cm.coolwarm, linewidth=0, antialiased=False)\n",
    "    cb = fig.colorbar(pp, shrink=0.5)\n",
    "    axe.set_xlabel(\"X\")\n",
    "    axe.set_ylabel(\"Y\")\n",
    "    plt.show()\n",
    "    \n",
    "def animate3D(l, name,fps=5.0):\n",
    "    # pour créer le fichier .gif d'une list l d'images\n",
    "    kwargs_write = {'fps':fps, 'quantizer':'nq'}\n",
    "    imageio.mimsave('./'+name+'.gif', l, fps=fps)\n",
    "    \n",
    "    \n",
    "def image3D(A,title):\n",
    "    # pour créer une image 3D\n",
    "    m = [i*hx for i in range(A.shape[1])]\n",
    "    p = [i*hy for i in range(A.shape[0])]\n",
    "    X,Y = np.meshgrid(m, p)\n",
    "    fig = plt.figure(figsize=(14,10))\n",
    "    axe = fig.add_subplot(1,1,1, projection='3d')\n",
    "    axe.view_init(30, 10)\n",
    "    plt.title(title);\n",
    "    axe.set_xlabel(\"X\")\n",
    "    axe.set_ylabel(\"Y\")\n",
    "    axe.set_xlim(0, Lx)\n",
    "    axe.set_ylim(0, Ly)\n",
    "    pp = axe.plot_surface(X, Y, A, rstride=1, cstride=1, cmap=matplotlib.cm.coolwarm, linewidth=0, antialiased=False)\n",
    "    cb = fig.colorbar(pp, shrink=0.5)\n",
    "    fig.canvas.draw() \n",
    "    image = np.frombuffer(fig.canvas.tostring_rgb(), dtype='uint8')\n",
    "    image  = image.reshape(fig.canvas.get_width_height()[::-1] + (3,))\n",
    "    plt.close(fig)\n",
    "    return image\n",
    "\n",
    "def rotate3D(A,title):  \n",
    "    # pour créer une liste d'image qui fait une tour de 360 dégrés\n",
    "    l=[]\n",
    "    for i in range(24):\n",
    "        m = [i*hx for i in range(A.shape[1])]\n",
    "        p = [i*hy for i in range(A.shape[0])]\n",
    "        X,Y = np.meshgrid(m, p)\n",
    "        fig = plt.figure(figsize=(14,10))\n",
    "        axe = fig.add_subplot(1,1,1, projection='3d')\n",
    "        plt.title(title);\n",
    "        axe.set_xlabel(\"X\")\n",
    "        axe.set_ylabel(\"Y\")\n",
    "        axe.set_xlim(0, Lx)\n",
    "        axe.set_ylim(0, Ly)\n",
    "        pp = axe.plot_surface(X, Y, A, rstride=1, cstride=1, cmap=matplotlib.cm.coolwarm, linewidth=0, antialiased=False)\n",
    "        cb = fig.colorbar(pp, shrink=0.5)\n",
    "        axe.view_init(20, i*15)\n",
    "        fig.canvas.draw() \n",
    "        image = np.frombuffer(fig.canvas.tostring_rgb(), dtype='uint8')\n",
    "        image  = image.reshape(fig.canvas.get_width_height()[::-1] + (3,))\n",
    "        plt.close(fig)\n",
    "        l.append(image)\n",
    "    return l"
   ]
  },
  {
   "cell_type": "code",
   "execution_count": null,
   "metadata": {},
   "outputs": [],
   "source": [
    "#empty cell"
   ]
  },
  {
   "cell_type": "markdown",
   "metadata": {
    "colab_type": "text",
    "id": "3KyCCDuU-Teq"
   },
   "source": [
    "### Représentation 2D:\n"
   ]
  },
  {
   "cell_type": "code",
   "execution_count": null,
   "metadata": {
    "colab": {},
    "colab_type": "code",
    "id": "XS9W4I0Z-bcG"
   },
   "outputs": [],
   "source": [
    "def show2D(A,title):\n",
    "  plt.figure(figsize=(14,10))\n",
    "  plt.title(title)\n",
    "  sns.heatmap(A, cmap=\"coolwarm\") # l'image est inversée\n",
    "  plt.xlabel(\"Y\")\n",
    "  plt.ylabel(\"X\")\n",
    "  plt.show()"
   ]
  },
  {
   "cell_type": "markdown",
   "metadata": {
    "colab_type": "text",
    "id": "j5bYXZ36ZGOH"
   },
   "source": [
    "## Calcul de $T_{st}^{0}$ (Question 1 - 2  page 7)\n",
    "### Détails de construction \n",
    "\n",
    "On va diviser le domaine sur 5 parties :\n",
    "<ul>\n",
    "  <li> $1 \\leq j \\leq n_{y}-1$ \n",
    "  <li> $ j = n_{y} $\n",
    "  <li> $ n_{y} +1 \\leq j \\leq 3n_{y}-1$\n",
    "  <li> $ j= 3n_{y}$\n",
    "  <li> $ 3n_{y} +1 \\leq j \\leq 4n_{y}-1$\n",
    "</ul>\n",
    "\n",
    "Poson pour $i \\in \\{a,c\\}$ :\n",
    "<ul> \n",
    "  <li> $\\alpha_{i} = \\frac{\\kappa_{i}}{h_{x}^{2}}$\n",
    "  <li> $\\beta_{i} = \\frac{\\kappa_{i}}{h_{y}^{2}}  $\n",
    "</ul>\n",
    "\n",
    "#### Partie 1 et Partie 5\n",
    "Les blocs seront notés $a_{1}$ et $b_{1}$\n",
    "\n",
    "Le bloc $a_{1}$ , matrice de taille $(4n_{x}+1,4n_{x}+1)$, est :\n",
    "\n",
    "$$a_{1} =\n",
    " \\begin{pmatrix}\n",
    "  \\alpha_{a}+2\\beta_{a} & -\\alpha_{a} & 0 & \\cdots & 0 \\\\\n",
    " -\\alpha_{a} & 2\\alpha_{a}+2\\beta_{a}  & -\\alpha_{a} & \\cdots & 0 \\\\\n",
    "  \\vdots  & \\ddots  & \\ddots & \\ddots  & \\vdots  \\\\\n",
    "  0 & \\cdots & -\\alpha_{a} & 2\\alpha_{a}+2\\beta_{a}  &-\\alpha_{a} \\\\\n",
    "  0 & \\cdots & 0 & -\\alpha_{a} &\\alpha_{a}+2\\beta_{a} \n",
    " \\end{pmatrix}$$\n",
    "\n",
    "Le bloc $b_{1}$ , matrice de taille $(4n_{x}+1,4n_{x}+1)$, est  :\n",
    "\n",
    "$$b_{1} =\n",
    " \\begin{pmatrix}\n",
    "  -\\beta_{a} & 0 & 0 & \\cdots & 0 \\\\\n",
    "  0 &-\\beta_{a}  & 0 & \\cdots & 0 \\\\\n",
    "  \\vdots  & \\ddots  & \\ddots & \\ddots  & \\vdots  \\\\\n",
    "  0 & \\cdots & 0 & -\\beta_{a}  &0 \\\\\n",
    "  0 & \\cdots & 0 & 0 & -\\beta_{a}\n",
    " \\end{pmatrix}$$\n",
    "\n",
    "\n",
    " ### Partie 2 et  : $\\gamma_{1}$ et $\\gamma_{3}$\n",
    " Les blocs seront notés $a_{2}$ , $b_{2}$ et $c_{2}$\n",
    "\n",
    " $$a_{2} =\n",
    " \\begin{pmatrix}\n",
    "  \\alpha_{a}+2\\beta_{a} & -\\alpha_{a} & 0 & \\cdots & \\cdots& \\cdots& \\cdots& \\cdots& \\cdots& \\cdots& \\cdots& \\cdots & 0 \\\\\n",
    " -\\alpha_{a} & 2\\alpha_{a}+2\\beta_{a}  & -\\alpha_{a} & 0& \\cdots & \\cdots& \\cdots& \\cdots& \\cdots& \\cdots& \\cdots& \\cdots& 0 \\\\\n",
    "  \\vdots  & \\ddots  & \\ddots & \\ddots  & \\vdots & \\vdots  & \\vdots & \\vdots & \\vdots & \\vdots & \\vdots & \\vdots & \\vdots \\\\\n",
    "  0 & \\cdots & -\\alpha_{a} & 2\\alpha_{a}+2\\beta_{a}  &-\\alpha_{a} &0  & \\cdots & \\cdots & \\cdots & \\cdots & \\cdots  & \\cdots &0\\\\\n",
    "  0 & \\cdots & 0 & -\\alpha_{a} &2\\alpha_{a}+2\\beta_{a} & -\\alpha_{a} & 0 &  \\cdots & \\cdots & \\cdots & \\cdots & \\cdots  &0\\\\\n",
    "  0 & \\cdots & \\cdots & 0 & -\\alpha_{a} & 2\\alpha_{a} + \\beta_{a} + \\beta_{c} & -\\alpha_{a} &0 & \\cdots & \\cdots & \\cdots & \\cdots &0\\\\\n",
    "  \\vdots & \\vdots & \\vdots & \\vdots & \\vdots & \\ddots & \\ddots & \\ddots & \\vdots & \\vdots  & \\vdots & \\vdots  &\\vdots\\\\\n",
    "  0 & \\cdots & \\cdots & \\cdots & \\cdots & 0 & -\\alpha_{a} & 2\\alpha_{a} + \\beta_{a} + \\beta_{c} & -\\alpha_{a}  &0 & \\cdots & \\cdots &0\\\\ \n",
    "  0 & \\cdots & \\cdots & \\cdots & \\cdots & \\cdots & 0 & -\\alpha_{a} & 2\\alpha_{a}+2\\beta_{a}  & -\\alpha_{a} &0 & \\cdots &0\\\\\n",
    "  0 & \\cdots & \\cdots & \\cdots & \\cdots & \\cdots & \\cdots & 0 &  -\\alpha_{a}  & 2\\alpha_{a}+2\\beta_{a} & -\\alpha_{a} &\\cdots &0\\\\\n",
    "  \\vdots & \\cdots & \\cdots & \\cdots & \\cdots & \\cdots & \\cdots & \\cdots &  \\cdots  & \\ddots & \\ddots & \\ddots &\\vdots\\\\\n",
    "  0 & \\cdots & \\cdots & \\cdots & \\cdots & \\cdots & \\cdots & \\cdots &  \\cdots  & 0 & -\\alpha_{a} & 2\\alpha_{a}+2\\beta_{a} & -\\alpha_{a} \\\\\n",
    "  0 & \\cdots & \\cdots & \\cdots & \\cdots & \\cdots & \\cdots & \\cdots &  \\cdots  & \\cdots & 0 & -\\alpha_{a} & \\alpha_{a}+2\\beta_{a} \\\\\n",
    " \\end{pmatrix}$$\n",
    "\n",
    "\n",
    "  $$b_{2} =\n",
    " \\begin{pmatrix}\n",
    "  -\\beta_{a} & 0 & 0 & \\cdots & \\cdots& \\cdots& \\cdots& \\cdots& \\cdots& \\cdots& \\cdots& \\cdots & 0 \\\\\n",
    " 0 & -\\beta_{a}  & 0 & 0& \\cdots & \\cdots& \\cdots& \\cdots& \\cdots& \\cdots& \\cdots& \\cdots& 0 \\\\\n",
    "  \\vdots  & \\ddots  & \\ddots & \\ddots  & \\vdots & \\vdots  & \\vdots & \\vdots & \\vdots & \\vdots & \\vdots & \\vdots & \\vdots \\\\\n",
    "  0 & \\cdots & 0 & -\\beta_{a}  & 0 &0  & \\cdots & \\cdots & \\cdots & \\cdots & \\cdots  & \\cdots &0\\\\\n",
    "  0 & \\cdots & 0 & 0 &-\\beta_{a} & 0 & 0 &  \\cdots & \\cdots & \\cdots & \\cdots & \\cdots  &0\\\\\n",
    "  0 & \\cdots & \\cdots & 0 & 0 & -\\beta_{c} & 0 &0 & \\cdots & \\cdots & \\cdots & \\cdots &0\\\\\n",
    "  \\vdots & \\vdots & \\vdots & \\vdots & \\vdots & \\ddots & \\ddots & \\ddots & \\vdots & \\vdots  & \\vdots & \\vdots  &\\vdots\\\\\n",
    "  0 & \\cdots & \\cdots & \\cdots & \\cdots & 0 & 0 & -\\beta_{c} & 0  &0 & \\cdots & \\cdots &0\\\\ \n",
    "  0 & \\cdots & \\cdots & \\cdots & \\cdots & \\cdots & 0 & 0 & -\\beta_{a}  & 0 &0 & \\cdots &0\\\\\n",
    "  0 & \\cdots & \\cdots & \\cdots & \\cdots & \\cdots & \\cdots & 0 &  0  & -\\beta_{a} & 0 &\\cdots &0\\\\\n",
    "  \\vdots & \\cdots & \\cdots & \\cdots & \\cdots & \\cdots & \\cdots & \\cdots &  \\cdots  & \\ddots & \\ddots & \\ddots &\\vdots\\\\\n",
    "  0 & \\cdots & \\cdots & \\cdots & \\cdots & \\cdots & \\cdots & \\cdots &  \\cdots  & 0 & 0 & -\\beta_{a} & 0 \\\\\n",
    "  0 & \\cdots & \\cdots & \\cdots & \\cdots & \\cdots & \\cdots & \\cdots &  \\cdots  & \\cdots & 0 & 0 &-\\beta_{a} \\\\\n",
    " \\end{pmatrix}$$\n",
    "\n",
    " #### Partie 3 :\n",
    "\n",
    " $$a_{3} =\n",
    " \\begin{pmatrix}\n",
    "  \\alpha_{a}+2\\beta_{a} & -\\alpha_{a} & 0 & \\cdots & \\cdots& \\cdots& \\cdots& \\cdots& \\cdots& \\cdots& \\cdots& \\cdots & 0 \\\\\n",
    " -\\alpha_{a} & 2\\alpha_{a}+2\\beta_{a}  & -\\alpha_{a} & 0& \\cdots & \\cdots& \\cdots& \\cdots& \\cdots& \\cdots& \\cdots& \\cdots& 0 \\\\\n",
    "  \\vdots  & \\ddots  & \\ddots & \\ddots  & \\vdots & \\vdots  & \\vdots & \\vdots & \\vdots & \\vdots & \\vdots & \\vdots & \\vdots \\\\\n",
    "  0 & \\cdots & -\\alpha_{a} & 2\\alpha_{a}+2\\beta_{a}  &-\\alpha_{a} &0  & \\cdots & \\cdots & \\cdots & \\cdots & \\cdots  & \\cdots &0\\\\\n",
    "  0 & \\cdots & 0 & -\\alpha_{a} &\\alpha_{a}+\\alpha_{c}+2\\beta_{a} & -\\alpha_{c} & 0 &  \\cdots & \\cdots & \\cdots & \\cdots & \\cdots  &0\\\\\n",
    "  0 & \\cdots & \\cdots & 0 & -\\alpha_{c} & 2\\alpha_{c} + 2\\beta_{c} & -\\alpha_{c} &0 & \\cdots & \\cdots & \\cdots & \\cdots &0\\\\\n",
    "  \\vdots & \\vdots & \\vdots & \\vdots & \\vdots & \\ddots & \\ddots & \\ddots & \\vdots & \\vdots  & \\vdots & \\vdots  &\\vdots\\\\\n",
    "  0 & \\cdots & \\cdots & \\cdots & \\cdots & 0 & -\\alpha_{c} & 2\\alpha_{c} + 2\\beta_{c} & -\\alpha_{c}  &0 & \\cdots & \\cdots &0\\\\ \n",
    "  0 & \\cdots & \\cdots & \\cdots & \\cdots & \\cdots & 0 & -\\alpha_{c} &\\alpha_{a}+\\alpha_{c}+2\\beta_{a}  & -\\alpha_{a} &0 & \\cdots &0\\\\\n",
    "  0 & \\cdots & \\cdots & \\cdots & \\cdots & \\cdots & \\cdots & 0 &  -\\alpha_{a}  & 2\\alpha_{a}+2\\beta_{a} & -\\alpha_{a} &\\cdots &0\\\\\n",
    "  \\vdots & \\cdots & \\cdots & \\cdots & \\cdots & \\cdots & \\cdots & \\cdots &  \\cdots  & \\ddots & \\ddots & \\ddots &\\vdots\\\\\n",
    "  0 & \\cdots & \\cdots & \\cdots & \\cdots & \\cdots & \\cdots & \\cdots &  \\cdots  & 0 & -\\alpha_{a} & 2\\alpha_{a}+2\\beta_{a} & -\\alpha_{a} \\\\\n",
    "  0 & \\cdots & \\cdots & \\cdots & \\cdots & \\cdots & \\cdots & \\cdots &  \\cdots  & \\cdots & 0 & -\\alpha_{a} & \\alpha_{a}+2\\beta_{a} \\\\\n",
    " \\end{pmatrix}$$\n",
    "\n",
    "\n",
    "#### La matrice A\n",
    "  $$A =\n",
    " \\begin{pmatrix}\n",
    "  a_{1} & b_{1} & 0 & \\cdots & \\cdots& \\cdots& \\cdots& \\cdots& \\cdots& \\cdots& \\cdots& \\cdots & 0 \\\\\n",
    " b_{1} & a_{1}  & b_{1} & 0& \\cdots & \\cdots& \\cdots& \\cdots& \\cdots& \\cdots& \\cdots& \\cdots& 0 \\\\\n",
    "  \\vdots  & \\ddots  & \\ddots & \\ddots  & \\vdots & \\vdots  & \\vdots & \\vdots & \\vdots & \\vdots & \\vdots & \\vdots & \\vdots \\\\\n",
    "  0 & \\cdots & b_{1} & a_{1}  &b_{1} &0  & \\cdots & \\cdots & \\cdots & \\cdots & \\cdots  & \\cdots &0\\\\\n",
    "  0 & \\cdots & 0 & b_{1} &a_{2} & b_{2} & 0 &  \\cdots & \\cdots & \\cdots & \\cdots & \\cdots  &0\\\\\n",
    "  0 & \\cdots & \\cdots & 0 & b_{2} & a_{3} & b_{2} &0 & \\cdots & \\cdots & \\cdots & \\cdots &0\\\\\n",
    "  \\vdots & \\vdots & \\vdots & \\vdots & \\vdots & \\ddots & \\ddots & \\ddots & \\vdots & \\vdots  & \\vdots & \\vdots  &\\vdots\\\\\n",
    "  0 & \\cdots & \\cdots & \\cdots & \\cdots & 0 & b_{2} & a_{3} & b_{2}  &0 & \\cdots & \\cdots &0\\\\ \n",
    "  0 & \\cdots & \\cdots & \\cdots & \\cdots & \\cdots & 0 & b_{2} &a_{2}  & b_{1} &0 & \\cdots &0\\\\\n",
    "  0 & \\cdots & \\cdots & \\cdots & \\cdots & \\cdots & \\cdots & 0 &  b_{1}  & a_{1} & b_{1} &\\cdots &0\\\\\n",
    "  \\vdots & \\cdots & \\cdots & \\cdots & \\cdots & \\cdots & \\cdots & \\cdots &  \\cdots  & \\ddots & \\ddots & \\ddots &\\vdots\\\\\n",
    "  0 & \\cdots & \\cdots & \\cdots & \\cdots & \\cdots & \\cdots & \\cdots &  \\cdots  & 0 & b_{1}  & a_{1} & b_{1} \\\\\n",
    "  0 & \\cdots & \\cdots & \\cdots & \\cdots & \\cdots & \\cdots & \\cdots &  \\cdots  & \\cdots & 0 & b_{1} & a_{1} \\\\\n",
    " \\end{pmatrix}$$\n",
    "\n",
    "#### Le vecteur $F_{0}$\n",
    "  $$F_{0} =\n",
    " \\begin{pmatrix}\n",
    "  -T_{b}*b_{1} \\\\\n",
    "  0 \\\\\n",
    "   0\\\\\n",
    "   -T_{h}*b_{1} \n",
    " \\end{pmatrix}$$\n"
   ]
  },
  {
   "cell_type": "markdown",
   "metadata": {
    "colab_type": "text",
    "id": "8MyFsk4pc8-Z"
   },
   "source": [
    "#### Bloc $a_{1}$"
   ]
  },
  {
   "cell_type": "code",
   "execution_count": null,
   "metadata": {
    "colab": {},
    "colab_type": "code",
    "id": "O5tdvmkOatTY"
   },
   "outputs": [],
   "source": [
    "#bloc a1\n",
    "d1 = 2*(alpha_a+beta_a) * np.ones((Nx))\n",
    "d1[0] = alpha_a + 2 * beta_a # premier terme \n",
    "d1[Nx-1] = alpha_a + 2 * beta_a # dernier terme\n",
    "d2 = (-alpha_a) * np.ones((Nx-1)) # diagonale supérieure et  diagonale inférieure\n",
    "a1 = np.diag(d1)+np.diag(d2,-1)+np.diag(d2,1)\n",
    "#print(a1)"
   ]
  },
  {
   "cell_type": "markdown",
   "metadata": {
    "colab_type": "text",
    "id": "aflGz-YCdB0K"
   },
   "source": [
    "#### Bloc $b_{1}$"
   ]
  },
  {
   "cell_type": "code",
   "execution_count": null,
   "metadata": {
    "colab": {},
    "colab_type": "code",
    "id": "3ygGslzgcs5v"
   },
   "outputs": [],
   "source": [
    "#bloc b1\n",
    "d3 = (-beta_a) * np.ones((Nx)) # diagonale\n",
    "b1 = np.diag(d3)\n",
    "#print(b1)"
   ]
  },
  {
   "cell_type": "markdown",
   "metadata": {
    "colab_type": "text",
    "id": "CpagHVgcdEVO"
   },
   "source": [
    "#### Bloc $a_{2}$"
   ]
  },
  {
   "cell_type": "code",
   "execution_count": null,
   "metadata": {
    "colab": {},
    "colab_type": "code",
    "id": "LOiAzchecyew"
   },
   "outputs": [],
   "source": [
    "#bloc a2:\n",
    "a2=np.zeros((Nx,Nx))\n",
    "d10 = (2*alpha_a + 2* beta_a) * np.ones((nx)) # premier bloc\n",
    "d20 =(2*alpha_a + 2* beta_a) * np.ones((nx)) # dernier bloc\n",
    "d10[0] -= alpha_a # premier terme\n",
    "d20[-1]-=alpha_a # dernier terme\n",
    "d30=np.zeros((Nx-2*nx)) # bloc au milieu\n",
    "a2+=np.diag(np.concatenate((d10,d30,d20))) # ajout du premier et denier bloc\n",
    "d30=((2*alpha_a +  beta_a + beta_c))*np.ones((Nx-2*nx)) # bloc au milieu\n",
    "d10 =  np.zeros((nx)) # premier bloc\n",
    "d20 = np.zeros((nx)) # dernier bloc\n",
    "d30[0]=(2*alpha_a + 2* beta_a) # 1er terme du bloc au milieu\n",
    "d30[-1]=(2*alpha_a + 2* beta_a) # dernier temer du bloc au milie\n",
    "a2+=np.diag(np.concatenate((d10,d30,d20))) # ajout du bloc au milieu\n",
    "d10 = (-alpha_a)*np.ones((Nx-1)) # diagonale supérieure et  diagonale inférieure\n",
    "a2+=np.diag(d10,1)+np.diag(d10,-1)\n",
    "#print(a2)"
   ]
  },
  {
   "cell_type": "markdown",
   "metadata": {
    "colab_type": "text",
    "id": "_g3Bk36kdGT1"
   },
   "source": [
    "#### Bloc $b_{2}$"
   ]
  },
  {
   "cell_type": "code",
   "execution_count": null,
   "metadata": {
    "colab": {},
    "colab_type": "code",
    "id": "fcTiLfIXc0qo"
   },
   "outputs": [],
   "source": [
    "#bloc b2\n",
    "d10 = (-beta_a) * np.ones((nx+1)) # 1er bloc\n",
    "d20 = (-beta_c) * np.ones((Nx-2*(nx+1))) # 2eme bloc\n",
    "b2 = np.diag((np.concatenate((d10,d20,d10)))) # ajout des blocs\n",
    "#print(b2)"
   ]
  },
  {
   "cell_type": "markdown",
   "metadata": {
    "colab_type": "text",
    "id": "IOgva0rMdIoY"
   },
   "source": [
    "#### Bloc $a_{3}$"
   ]
  },
  {
   "cell_type": "code",
   "execution_count": null,
   "metadata": {
    "colab": {},
    "colab_type": "code",
    "id": "FvRdnLvIc2pX"
   },
   "outputs": [],
   "source": [
    "#bloc a3\n",
    "a3=np.zeros((Nx,Nx))\n",
    "d10 = (2*alpha_a + 2* beta_a) * np.ones((nx)) # 1er bloc\n",
    "d20 =(2*alpha_a + 2* beta_a) * np.ones((nx)) # dernier bloc\n",
    "d10[0] -= alpha_a # 1er terme\n",
    "d20[-1]-=alpha_a #dernier terme\n",
    "d30=np.zeros((Nx-2*nx)) # bloc au milieu\n",
    "a3+=np.diag(np.concatenate((d10,d30,d20))) # ajout du 1er et dernier blocs\n",
    "d30= (2*alpha_c + 2* beta_c)*np.ones((Nx-2*nx)) # bloc au milieu\n",
    "d10 =  np.zeros((nx)) # 1er bloc\n",
    "d20 = np.zeros((nx)) # dernier bloc\n",
    "d30[0]=alpha_a+alpha_c+2*beta_a # 1er terme du bloc au milieu\n",
    "d30[-1]=alpha_a+alpha_c+2*beta_a  # dernier terme du bloc au milieu\n",
    "a3+=np.diag(np.concatenate((d10,d30,d20)))  # ajout du bloc au milieu\n",
    "d10  = (-alpha_a)*np.ones((nx)) # 1er -dernier bloc du diagonal sup-inf\n",
    "d20  = (-alpha_c)*np.ones((Nx-1-2*(nx))) # bloc au milieu du diagonal sup-inf\n",
    "d30 = np.concatenate((d10,d20,d10)) # formation du diag sup-inf\n",
    "a3+=np.diag(d30,1)+np.diag(d30,-1)  # ajout des diag sup-inf\n",
    "#print(a3)"
   ]
  },
  {
   "cell_type": "markdown",
   "metadata": {
    "colab_type": "text",
    "id": "rjpWEk_edthE"
   },
   "source": [
    "#### Matrice $A$"
   ]
  },
  {
   "cell_type": "code",
   "execution_count": null,
   "metadata": {
    "colab": {},
    "colab_type": "code",
    "id": "zsl0aFPwc6D3"
   },
   "outputs": [],
   "source": [
    "#matrice A\n",
    "A=np.zeros((N,N))\n",
    "\n",
    "# ajout de a1\n",
    "d10 =  np.ones((ny-1))\n",
    "d20 = np.zeros((4*ny-1-2*(ny-1)))\n",
    "d30 = np.concatenate((d10,d20,d10))\n",
    "d30 = np.diag(d30)\n",
    "A += np.kron(d30,a1)\n",
    "#print(a1)\n",
    "\n",
    "#ajout de a3\n",
    "d10 =  np.zeros((ny-1))\n",
    "d20 = np.ones((4*ny-1-2*(ny-1)))\n",
    "d20[0]=0\n",
    "d20[-1]=0\n",
    "d30 = np.concatenate((d10,d20,d10))\n",
    "d30 = np.diag(d30)\n",
    "A += np.kron(d30,a3)\n",
    "\n",
    "#ajout de a2\n",
    "d10 =  np.zeros((ny-1))\n",
    "d20 = np.zeros((4*ny-1-2*(ny-1)))\n",
    "d20[0]=1.\n",
    "d20[-1]=1.\n",
    "d30 = np.concatenate((d10,d20,d10))\n",
    "d30 = np.diag(d30)\n",
    "A += np.kron(d30,a2)\n",
    "\n",
    "#ajout de b1\n",
    "d10 = np.ones((ny-1))\n",
    "d20 = np.zeros((4*ny-2-2*(ny-1)))\n",
    "d30 = np.concatenate((d10,d20,d10))\n",
    "\n",
    "d301 = np.diag(d30,1)\n",
    "d302 = np.diag(d30,-1)\n",
    "A+= np.kron(d301,b1) + np.kron(d302,b1)\n",
    "\n",
    "#ajout de b2\n",
    "d10 = np.zeros((ny-1))\n",
    "d20 = np.ones((4*ny-2-2*(ny-1)))\n",
    "d30 = np.concatenate((d10,d20,d10))\n",
    "d301 = np.diag(d30,1)\n",
    "d302 = np.diag(d30,-1)\n",
    "A+= np.kron(d301,b2) + np.kron(d302,b2)\n",
    "\n",
    "#print(A)"
   ]
  },
  {
   "cell_type": "markdown",
   "metadata": {
    "colab_type": "text",
    "id": "pL1L6xFAe5_1"
   },
   "source": [
    "####  Vecteur $F_{0}$"
   ]
  },
  {
   "cell_type": "code",
   "execution_count": null,
   "metadata": {
    "colab": {},
    "colab_type": "code",
    "id": "hqI_wEiQd0rv"
   },
   "outputs": [],
   "source": [
    "#Matrice F0\n",
    "F0 = np.zeros((N,1))\n",
    "F0[0:Nx] =  beta_a * ( Tb * np.ones((Nx,1)) )\n",
    "F0[N-Nx:N] = beta_a * ( Th * np.ones((Nx,1)))\n",
    "#print(F0)"
   ]
  },
  {
   "cell_type": "markdown",
   "metadata": {
    "colab_type": "text",
    "id": "EB3R0QD1gRun"
   },
   "source": [
    "#### Solution $T_{st}^{0}$\n"
   ]
  },
  {
   "cell_type": "code",
   "execution_count": null,
   "metadata": {
    "colab": {},
    "colab_type": "code",
    "id": "Jic3URIOgRBc"
   },
   "outputs": [],
   "source": [
    "#solution Tst0\n",
    "Tst0 = resout_sparse(A,F0)"
   ]
  },
  {
   "cell_type": "code",
   "execution_count": null,
   "metadata": {
    "colab": {
     "base_uri": "https://localhost:8080/",
     "height": 574
    },
    "colab_type": "code",
    "id": "pUJpPOO8gi1P",
    "outputId": "538161ea-746d-41f6-b5be-0419956fa5e5"
   },
   "outputs": [],
   "source": [
    "Tst0_2D  = Tst0.reshape((4*ny-1,4*nx+1)) # température dans le plan 2D privé de gamma 1 et gamma 3\n",
    "#ajout de gamma1 et gamma 3 dans la matrice de la température\n",
    "gamma1 = Tb * np.ones((1,4*nx+1),dtype=float)\n",
    "gamma3 = Th * np.ones((1,4*nx+1),dtype=float)\n",
    "Tst0_2D = np.concatenate((gamma1, Tst0_2D), axis = 0)\n",
    "Tst0_2D = np.concatenate((Tst0_2D, gamma3), axis = 0)\n",
    "#schéma\n",
    "title =r\"$T_{st}^{0}$\"\n",
    "#show3D(Tst0_2D,title)\n",
    "name = \"Température_stationnaire_0\"\n",
    "l=rotate3D(Tst0_2D,title)\n",
    "animate3D(l,name)\n",
    "img =Image('./'+name+'.gif')\n",
    "display(img)"
   ]
  },
  {
   "cell_type": "markdown",
   "metadata": {
    "colab_type": "text",
    "id": "5iqnKYwmhEBc"
   },
   "source": [
    "#### Calcul de $T_{st}^{i}$\n",
    "On suppose qu'une résistance unité placé en $(x_{i}, y_{i})$ est équivalente à une densté surfacique $f_{i}(x,y)= exp(-\\frac{(x-x_{i})^{2}+(y-y_{i})^{2}}{2(0.05)^{2}} )$"
   ]
  },
  {
   "cell_type": "markdown",
   "metadata": {
    "colab_type": "text",
    "id": "C_TNSGlvilT6"
   },
   "source": [
    "#### Fonction utile pour l'indice dans le vecteur"
   ]
  },
  {
   "cell_type": "code",
   "execution_count": null,
   "metadata": {
    "colab": {},
    "colab_type": "code",
    "id": "L3GqCdqdiooq"
   },
   "outputs": [],
   "source": [
    "def h(i,j):\n",
    "  return (j-1)*Nx+i"
   ]
  },
  {
   "cell_type": "markdown",
   "metadata": {
    "colab_type": "text",
    "id": "WQflghSzh5fX"
   },
   "source": [
    "#### Fonction pour calculer $F_{i}$"
   ]
  },
  {
   "cell_type": "code",
   "execution_count": null,
   "metadata": {
    "colab": {},
    "colab_type": "code",
    "id": "iv9kpCORgyuX"
   },
   "outputs": [],
   "source": [
    "def calc_F(pos):\n",
    "  #pos est un tuple de la forme (xi,yi)\n",
    "  Fi = np.zeros((N,1))\n",
    "  xi,yi = pos # on récupere xi et yi du variable pos\n",
    "  for i in range(Nx):\n",
    "    for j in range(1,4*ny):\n",
    "      lig = h(i,j) # position dans F\n",
    "      x = i*hx # calcul de x\n",
    "      y = j*hy # calcul de y\n",
    "      nb = ((x-xi)**2 + (y-yi)**2)/(2*0.05**2) # calcul du terme dans l'exp\n",
    "      Fi[lig,0]+= np.exp(-nb) # calcul du fi(x,y)\n",
    "  Fi = Fi/(2*(0.05)**2*np.pi)\n",
    "  return Fi"
   ]
  },
  {
   "cell_type": "markdown",
   "metadata": {
    "colab_type": "text",
    "id": "wzLU1xKTonc4"
   },
   "source": [
    "## $1^{er}$ cas (Questions 1-2-3-4 page 8)"
   ]
  },
  {
   "cell_type": "markdown",
   "metadata": {
    "colab_type": "text",
    "id": "z5OCNy4vkQ5w"
   },
   "source": [
    "#### Calcul de $T_{st}^{1}$ pour $r_{1}=1$ et dans $(0.2L_{x}, 0.2L_{y})$"
   ]
  },
  {
   "cell_type": "code",
   "execution_count": null,
   "metadata": {
    "colab": {
     "base_uri": "https://localhost:8080/",
     "height": 34
    },
    "colab_type": "code",
    "id": "ybXDD9Jlj9N6",
    "outputId": "2b2a3462-3cfa-4435-c349-2cb5afbc11ef"
   },
   "outputs": [],
   "source": [
    "X1 = (0.2*Lx, 0.2*Ly)\n",
    "# calcul de F1\n",
    "F1 = calc_F(X1)\n",
    "#solution Tst1 pour r1 =1 \n",
    "r1 = 1\n",
    "Tst1_1 = r1 * resout_sparse(A,F1)\n",
    "#solution Tst1 pour r1 = 100\n",
    "r1 = 100\n",
    "Tst1_100 = resout_sparse(A,100*F1)\n",
    "# vérification de la linéarité \n",
    "print(\"différence  = \", np.sum(np.square(Tst1_100-100*Tst1_1)))"
   ]
  },
  {
   "cell_type": "markdown",
   "metadata": {
    "colab_type": "text",
    "id": "VoNdaqeHmnDJ"
   },
   "source": [
    "D'où la linéarité : $T_{st}^{1}(r_{1}=100) = 100. T_{st}^{1}(r_{1}=1)$\n",
    "\n"
   ]
  },
  {
   "cell_type": "markdown",
   "metadata": {
    "colab_type": "text",
    "id": "oE-FigpPm_I3"
   },
   "source": [
    "La solution $T = T_{st}^{0} + r_{1}T_{st}^{1} $ pour $r_{1}=100$"
   ]
  },
  {
   "cell_type": "code",
   "execution_count": null,
   "metadata": {
    "colab": {},
    "colab_type": "code",
    "id": "wgnW6bXam-oV"
   },
   "outputs": [],
   "source": [
    "# Solution T\n",
    "T = Tst0 + Tst1_100"
   ]
  },
  {
   "cell_type": "code",
   "execution_count": null,
   "metadata": {
    "colab": {
     "base_uri": "https://localhost:8080/",
     "height": 574
    },
    "colab_type": "code",
    "id": "byWTqzULlBa-",
    "outputId": "05c60b75-4108-4f42-842e-7f81e5df5ad5"
   },
   "outputs": [],
   "source": [
    "T_2D  = T.reshape((4*ny-1,4*nx+1)) # température dans le plan 2D privé de gamma 1 et gamma 3\n",
    "#ajout de gamma1 et gamma 3 dans la matrice de la température\n",
    "gamma1 = Tb * np.ones((1,4*nx+1),dtype=float)\n",
    "gamma3 = Th * np.ones((1,4*nx+1),dtype=float)\n",
    "T_2D = np.concatenate((gamma1, T_2D), axis = 0)\n",
    "T_2D = np.concatenate((T_2D, gamma3), axis = 0);\n",
    "#schéma\n",
    "title=(r\"$T = T_{st}^{0} + r_{1}T_{st}^{1}$\")\n",
    "#show3D(T_2D,title)\n",
    "name = \"température_stationnaire_avec_1_résistance\"\n",
    "l=rotate3D(T_2D,title)\n",
    "animate3D(l,name)\n",
    "img =Image('./'+name+'.gif')\n",
    "display(img)"
   ]
  },
  {
   "cell_type": "markdown",
   "metadata": {
    "colab_type": "text",
    "id": "WZGKhPRMoqNA"
   },
   "source": [
    "## $2^{ème}$ cas (Question 5 page 8)"
   ]
  },
  {
   "cell_type": "markdown",
   "metadata": {
    "colab_type": "text",
    "id": "k63rEUtNotL9"
   },
   "source": [
    "les conditions sont :\n",
    "<ul>\n",
    "  <li> $T_{b} =100$  et $T_{h} = 50$</li>\n",
    "  <li> $r_{1} =r_{2}=r_{3}=r_{4} = 100$ dans les positions $(0.2L_{x}, 0.2L_{y})$, $(0.8L_{x}, 0.2L_{y})$, $(0.8L_{x}, 0.8L_{y})$ $(0.2L_{x}, 0.8L_{y})$ </li>\n",
    "</ul>\n",
    "\n",
    "La solution donc  : \n",
    "$T_{st} = T_{st}^{0} + \\sum_{i=1}^{4} r_{i}T_{st}^{i}$"
   ]
  },
  {
   "cell_type": "code",
   "execution_count": null,
   "metadata": {
    "colab": {},
    "colab_type": "code",
    "id": "gklDh1tfnciL"
   },
   "outputs": [],
   "source": [
    "# list des résistance:\n",
    "r =[100,100,100,100]\n",
    "#list des positions \n",
    "poss = [(0.2*Lx, 0.2*Ly), (0.8*Lx, 0.2*Ly),(0.8*Lx, 0.8*Ly),(0.2*Lx, 0.8*Ly)]\n",
    "#initialisation de la solution\n",
    "T = np.copy(Tst0)\n",
    "for i in range(len(r)):\n",
    "  Fi = calc_F(poss[i])\n",
    "  T += r[i]*resout_sparse(A,Fi)\n"
   ]
  },
  {
   "cell_type": "code",
   "execution_count": null,
   "metadata": {
    "colab": {
     "base_uri": "https://localhost:8080/",
     "height": 574
    },
    "colab_type": "code",
    "id": "oCyEWWa0qsbX",
    "outputId": "d2c29c6d-ffbe-44d6-a096-9ddef3c7b886"
   },
   "outputs": [],
   "source": [
    "T_2D  = T.reshape((4*ny-1,4*nx+1)) # température dans le plan 2D privé de gamma 1 et gamma 3\n",
    "#ajout de gamma1 et gamma 3 dans la matrice de la température\n",
    "gamma1 = Tb * np.ones((1,4*nx+1),dtype=float)\n",
    "gamma3 = Th * np.ones((1,4*nx+1),dtype=float)\n",
    "T_2D = np.concatenate((gamma1, T_2D), axis = 0)\n",
    "T_2D = np.concatenate((T_2D, gamma3), axis = 0);\n",
    "#schéma\n",
    "title=(r\"$T_{st} = T_{st}^{0} + \\sum_{i=1}^{4} r_{i}T_{st}^{i}$\")\n",
    "#show3D(T_2D,title)\n",
    "name = \"température_stationnaire_avec_4_résistance\"\n",
    "l=rotate3D(T_2D,title)\n",
    "animate3D(l,name)\n",
    "img =Image('./'+name+'.gif')\n",
    "display(img)"
   ]
  },
  {
   "cell_type": "markdown",
   "metadata": {
    "colab_type": "text",
    "id": "0Eu3Lnkxz9-8"
   },
   "source": [
    "## $3^{ème}$ cas (Question 6 page 8)\n",
    "les conditions sont :\n",
    "<ul>\n",
    "  <li> $T_{b} =100$  et $T_{h} = 50$</li>\n",
    "  <li> $r_{1} =r_{2}=r_{3}=r_{4} =r_{5}=r_{6} =100$ dans les positions $(0.2L_{x}, 0.2L_{y})$, $(0.5L_{x}, 0.2L_{y})$,$(0.8L_{x}, 0.2L_{y})$, $(0.8L_{x}, 0.8L_{y})$,$(0.5L_{x}, 0.2L_{y})$, $(0.2L_{x}, 0.8L_{y})$ </li>\n",
    "</ul>\n",
    "\n",
    "La solution donc  : \n",
    "$T_{st} = T_{st}^{0} + \\sum_{i=1}^{6} r_{i}T_{st}^{i}$"
   ]
  },
  {
   "cell_type": "code",
   "execution_count": null,
   "metadata": {
    "colab": {},
    "colab_type": "code",
    "id": "Jrh557JDqyMG"
   },
   "outputs": [],
   "source": [
    "# list des résistance:\n",
    "r =[100,100,100,100,100,100]\n",
    "#list des positions \n",
    "poss = [(0.2*Lx, 0.2*Ly),(0.5*Lx, 0.2*Ly), (0.8*Lx, 0.2*Ly),(0.8*Lx, 0.8*Ly),(0.5*Lx, 0.8*Ly),(0.2*Lx, 0.8*Ly)]\n",
    "#initialisation de la solution\n",
    "T = np.copy(Tst0)\n",
    "for i in range(len(r)):\n",
    "  Fi = calc_F(poss[i])\n",
    "  T += resout_sparse(A,r[i]*Fi)\n",
    "  #print( max(resoud_tridiag(A,r[i]*Fi)))\n"
   ]
  },
  {
   "cell_type": "code",
   "execution_count": null,
   "metadata": {
    "colab": {
     "base_uri": "https://localhost:8080/",
     "height": 574
    },
    "colab_type": "code",
    "id": "49lmeOIw0cwk",
    "outputId": "53ff43e4-3d39-4ec0-8229-797e39b03b59"
   },
   "outputs": [],
   "source": [
    "T_2D  = T.reshape((4*ny-1,4*nx+1)) # température dans le plan 2D privé de gamma 1 et gamma 3\n",
    "#ajout de gamma1 et gamma 3 dans la matrice de la température\n",
    "gamma1 = Tb * np.ones((1,4*nx+1),dtype=float)\n",
    "gamma3 = Th * np.ones((1,4*nx+1),dtype=float)\n",
    "T_2D = np.concatenate((gamma1, T_2D), axis = 0)\n",
    "T_2D = np.concatenate((T_2D, gamma3), axis = 0);\n",
    "#schéma\n",
    "title=(r\"$T_{st} = T_{st}^{0} + \\sum_{i=1}^{6} r_{i}T_{st}^{i}$\")\n",
    "#show3D(T_2D,title)\n",
    "name = \"température_stationnaire_avec_6_résistance\"\n",
    "l=rotate3D(T_2D,title)\n",
    "animate3D(l,name)\n",
    "img =Image('./'+name+'.gif')\n",
    "display(img)"
   ]
  },
  {
   "cell_type": "markdown",
   "metadata": {},
   "source": [
    "# 4.Problème transitoire\n",
    "Cette partie concerne la résolution numérique dy système (3) avec la méthode des différences finies.\n",
    "\n",
    "On va poser un pas pour le temps $\\Delta t$ tel que $t^{m} = m \\Delta t$"
   ]
  },
  {
   "cell_type": "markdown",
   "metadata": {},
   "source": [
    "## Schéma explicite \n",
    "\n",
    "### Consistance :\n",
    "La consistance du schéma est déja démontré dans la partie Méthode des différences finies \n",
    "### Stabilité :\n",
    "On pose $\\tilde{T}_{h_{x},h_{y}}^{m}$ est le transformée de fourier de $T_{h_{x},h_{y}}^{m}$ et on pose que:\n",
    "$$ \\tilde{T}_{h_{x},h_{y}}^{m+1} = S_{h_{x},h_{y}}(\\Delta t) . \\tilde{T}_{h_{x},h_{y}}^{m}$$\n",
    "On a le schéma est stable si et seulement si $|S_{h_{x},h_{y}}(\\Delta t)| \\leq 1$\n",
    "\n",
    "On commence par chercher l'expression de $S_{h_{x},h_{y}}(\\Delta t)$ , en appliquant le transformé de fourier a notre problème et en regroupant les termes ensemle  on obtient:\n",
    "$$\\tilde{T}_{h_{x},h_{y}}^{m+1}(\\xi) = \\tilde{T}_{h_{x},h_{y}}^{m}(xi)(1 - 4.\\Delta t.\\kappa(\\frac{1}{h_{x}^{2}}.\\sin^{2}(\\frac{\\xi h_{x}}{2})  +\\frac{1}{h_{y}^{2}}.\\sin^{2}(\\frac{\\xi h_{y}}{2} ))) $$ \n",
    "Donc $S_{h_{x},h_{y}}(\\Delta t) = (1 - 4.\\Delta t.\\kappa(\\frac{1}{h_{x}^{2}}.\\sin^{2}(\\frac{\\xi h_{x}}{2})  +\\frac{1}{h_{y}^{2}}.\\sin^{2}(\\frac{\\xi h_{y}}{2} ))) $\n",
    "\n",
    "Il est clair que $S_{h_{x},h_{y}}(\\Delta t,\\xi)$ est $\\leq 1$ , donc le schéma est stable si et seulement si on a $S_{h_{x},h_{y}}(\\Delta t) \\geq -1$ et par suit on obtient la condition de stabilité qui est la suivante :\n",
    "$$ \\frac{1}{h_{x}^{2}} + \\frac{1}{h_{y}^{2}} \\leq \\frac{1}{2.\\Delta t \\kappa} $$\n",
    "### Convergence : \n",
    "Sous la condition \n",
    "$$ \\frac{1}{h_{x}^{2}} + \\frac{1}{h_{y}^{2}} \\leq \\frac{1}{2.\\Delta t \\kappa} $$\n",
    "on a la schéma est stable , or le schéma est déja consistant donc le schéma est convergent.\n",
    "### Forme condensée :\n",
    "On va représenter le schéma sous la forme condonsée suivante : \n",
    "$$  T^{m+1} = BT^{m}$$"
   ]
  },
  {
   "cell_type": "markdown",
   "metadata": {},
   "source": [
    "### Construction de la matrice B\n",
    "En utilisant la matrice A , on déduit facilement que $B$ s'écrit :\n",
    "$$ B = I - \\Delta t .A$$"
   ]
  },
  {
   "cell_type": "code",
   "execution_count": null,
   "metadata": {
    "colab": {
     "base_uri": "https://localhost:8080/",
     "height": 610
    },
    "colab_type": "code",
    "id": "SnMT85Su0dlM",
    "outputId": "7db3c71f-14bf-475c-c0c4-22d282fc4428"
   },
   "outputs": [],
   "source": [
    "# matrice B\n",
    "dt = 0.00001\n",
    "B = np.eye((4*nx+1)*(4*ny-1)) -  dt*A"
   ]
  },
  {
   "cell_type": "markdown",
   "metadata": {},
   "source": [
    "### Fonction pour la puissance logarithmique"
   ]
  },
  {
   "cell_type": "code",
   "execution_count": null,
   "metadata": {},
   "outputs": [],
   "source": [
    "#fonction qui calcule B^n en log(n)*O(multiplication matricielle)\n",
    "def puissance_log(B,n):\n",
    "    res =  np.eye((B.shape[0]))\n",
    "    cur = np.copy(B)\n",
    "    while(n):\n",
    "        if(n%2):\n",
    "            res = np.dot(res,cur)\n",
    "        n//=2\n",
    "        cur = np.dot(cur,cur)\n",
    "    return res"
   ]
  },
  {
   "cell_type": "markdown",
   "metadata": {},
   "source": [
    "### Calcul de $T^{m}$"
   ]
  },
  {
   "cell_type": "code",
   "execution_count": null,
   "metadata": {
    "colab": {
     "base_uri": "https://localhost:8080/",
     "height": 34
    },
    "colab_type": "code",
    "id": "zzuxiaKVoaij",
    "outputId": "9b870d7a-61bc-461c-e682-267dd8a7a3b8"
   },
   "outputs": [],
   "source": [
    "T_0 = (Tb+Th)//2 *np.ones((N,1))\n",
    "Tst0 = Tst0.reshape((N,1))\n",
    "#T0 = T_0 -Tst0 # calculons T0\n",
    "T0 = np.copy(Tst0).reshape((N,1))\n",
    "#T0 = np.copy(T)\n",
    "lastT = np.copy(T0)\n",
    "lastT = lastT.reshape((N,1))\n",
    "\n",
    "m= 10000 \n",
    "res=np.eye((B.shape[0]))\n",
    "l=[] # pour stocker les courbes de Ttr en fonction de t dans différents instants\n",
    "l_T=[] # pour stocker les courbes de T en fonction de t dans différents instants\n",
    "T1=np.copy(T0) ## le résultat \n",
    "for i in range(20):\n",
    "    res = puissance_log(B,i)\n",
    "    T1 = np.dot(res,lastT)\n",
    "    T1_2D  = T1.reshape((4*ny-1,4*nx+1))\n",
    "    l.append(image3D(T1_2D,r\"Ttr pour $t={}\\Delta t$\".format(i))) # ajouter l'image à la liste\n",
    "    l_T.append(image3D(T1_2D+Tst0.reshape((Ny,Nx)),r\"T pour $t={}\\Delta t$\".format(i)))\n",
    "for i in range(1,20):\n",
    "    res = puissance_log(B,i*100)\n",
    "    T1 = np.dot(res,lastT)\n",
    "    T1_2D  = T1.reshape((4*ny-1,4*nx+1))\n",
    "    l.append(image3D(T1_2D,r\"Ttr pour $t={}\\Delta t$\".format(i*100))) # ajouter l'image à la liste\n",
    "    l_T.append(image3D(T1_2D+Tst0.reshape((Ny,Nx)),r\"T pour $t={}\\Delta t$\".format(i*100)))\n",
    "for i in range(2,m//1000+1):\n",
    "    res = puissance_log(B,i*1000)\n",
    "    T1 = np.dot(res,lastT)\n",
    "    T1_2D  = T1.reshape((4*ny-1,4*nx+1))\n",
    "    l.append(image3D(T1_2D,r\"Ttr pour $t={}\\Delta t$\".format(i*1000))) # ajouter l'image à la liste\n",
    "    l_T.append(image3D(T1_2D+Tst0.reshape((Ny,Nx)),r\"T pour $t={}\\Delta t$\".format(i*1000)))\n",
    "for i in range(2,10):\n",
    "    res = puissance_log(B,i*10000)\n",
    "    T1 = np.dot(res,lastT)\n",
    "    T1_2D  = T1.reshape((4*ny-1,4*nx+1))\n",
    "    l.append(image3D(T1_2D,r\"Ttr pour $t={}\\Delta t$\".format(i*10000))) # ajouter l'image à la liste\n",
    "    l_T.append(image3D(T1_2D+Tst0.reshape((Ny,Nx)),r\"T pour $t={}\\Delta t$\".format(i*10000)))\n",
    "\n",
    "\n",
    "print(\"Terminé avec succés\")\n",
    "\n"
   ]
  },
  {
   "cell_type": "code",
   "execution_count": null,
   "metadata": {
    "colab": {
     "base_uri": "https://localhost:8080/",
     "height": 34
    },
    "colab_type": "code",
    "id": "kvW5n_dgqKSM",
    "outputId": "dc6c85ef-c138-4ad9-8f60-57975c10055b"
   },
   "outputs": [],
   "source": [
    "#visualisation de Ttr\n",
    "title = r\"Ttr pour $t={}$\".format(m)\n",
    "#show3D(T1_2D,title)\n",
    "name = \"Température_transitoire_explicite1\"\n",
    "#l=rotate3D(T1_2D,title)\n",
    "animate3D(l,name,fps=10.0)\n",
    "img =Image('./'+name+'.gif')\n",
    "display(img)"
   ]
  },
  {
   "cell_type": "code",
   "execution_count": null,
   "metadata": {
    "colab": {
     "base_uri": "https://localhost:8080/",
     "height": 34
    },
    "colab_type": "code",
    "id": "4kDH4IizqVKy",
    "outputId": "3a33c607-b2e2-4b2a-a39a-270321b8305a"
   },
   "outputs": [],
   "source": [
    "#visualisation de T\n",
    "title = r\"T pour $t={}$\".format(m)\n",
    "#show3D(T1_2D,title)\n",
    "name = \"Température_explicite\"\n",
    "#l=rotate3D(T1_2D,title)\n",
    "animate3D(l_T,name,fps=10.0)\n",
    "img =Image('./'+name+'.gif')\n",
    "display(img)"
   ]
  },
  {
   "cell_type": "markdown",
   "metadata": {},
   "source": [
    "## Schéma implicite\n",
    "### Consistance :\n",
    "La consistance du schéma est déja démontré dans la partie Méthode des différences finies.\n",
    "### Stabilité :\n",
    "On pose $\\tilde{T}_{h_{x},h_{y}}^{m}$ est le transformée de fourier de $T_{h_{x},h_{y}}^{m}$ et on pose que:\n",
    "$$ \\tilde{T}_{h_{x},h_{y}}^{m+1} = S_{h_{x},h_{y}}(\\Delta t) . \\tilde{T}_{h_{x},h_{y}}^{m}$$\n",
    "On a le schéma est stable si et seulement si $|S_{h_{x},h_{y}}(\\Delta t)| \\leq 1$\n",
    "\n",
    "On commence par chercher l'expression de $S_{h_{x},h_{y}}(\\Delta t)$ , en appliquant le transformé de fourier a notre problème et en regroupant les termes ensemle  on obtient:\n",
    "$$\\tilde{T}_{h_{x},h_{y}}^{m+1}(\\xi)(1+4.\\Delta t.\\kappa(\\frac{1}{h_{x}^{2}}.\\sin^{2}(\\frac{\\xi h_{x}}{2})  +\\frac{1}{h_{y}^{2}}.\\sin^{2}(\\frac{\\xi h_{y}}{2} ))) = \\tilde{T}_{h_{x},h_{y}}^{m}(xi) $$ \n",
    "Donc $S_{h_{x},h_{y}}(\\Delta t) = \\frac{1}{(1+4.\\Delta t.\\kappa(\\frac{1}{h_{x}^{2}}.\\sin^{2}(\\frac{\\xi h_{x}}{2})  +\\frac{1}{h_{y}^{2}}.\\sin^{2}(\\frac{\\xi h_{y}}{2} )))} $\n",
    "\n",
    "Il est clair que $S_{h_{x},h_{y}}(\\Delta t,\\xi)$ est $\\leq 1$ $\\forall$ $\\xi$ et donc le schéma est incoditionnellement stable.\n",
    "### Convergence : \n",
    "On a la schéma est stable et consistant alors il est convergent.\n",
    "### Forme condensée :\n",
    "On va représenter le schéma sous la forme condonsée suivante : \n",
    "$$  BT^{m+1} = T^{m}$$"
   ]
  },
  {
   "cell_type": "markdown",
   "metadata": {},
   "source": [
    "### Construction de la matrice B\n",
    "En utilisant la matrice A , on déduit facilement que $B$ s'écrit :\n",
    "$$ B = I + \\Delta t .A$$"
   ]
  },
  {
   "cell_type": "code",
   "execution_count": null,
   "metadata": {},
   "outputs": [],
   "source": [
    "# matrice B\n",
    "dt = 0.00001\n",
    "B = np.eye((4*nx+1)*(4*ny-1)) +  dt*A\n",
    "B_inv = np.linalg.inv(B)"
   ]
  },
  {
   "cell_type": "markdown",
   "metadata": {},
   "source": [
    "### Calcul de $T^{m}$"
   ]
  },
  {
   "cell_type": "code",
   "execution_count": null,
   "metadata": {},
   "outputs": [],
   "source": [
    "T_0 = (Tb+Th)//2 *np.ones((N,1))\n",
    "Tst0 = Tst0.reshape((N,1))\n",
    "#T0 = T_0 -Tst0 # calculons T0\n",
    "T0 = np.copy(Tst0).reshape((N,1))\n",
    "#T0 = np.copy(T)\n",
    "lastT = np.copy(T0)\n",
    "lastT = lastT.reshape((N,1))\n",
    "\n",
    "m= 10000 \n",
    "res=np.eye((B_inv.shape[0]))\n",
    "l=[] # pour stocker les courbes de Ttr en fonction de t dans différents instants\n",
    "l_T=[] # pour stocker les courbes de T en fonction de t dans différents instants\n",
    "T1=np.copy(T0) ## le résultat \n",
    "for i in range(20):\n",
    "    res = puissance_log(B_inv,i*100)\n",
    "    T1 = np.dot(res,lastT)\n",
    "    T1_2D  = T1.reshape((4*ny-1,4*nx+1))\n",
    "    l.append(image3D(T1_2D,r\"Ttr pour $t={}\\Delta t$\".format(i*100))) # ajouter l'image à la liste\n",
    "    l_T.append(image3D(T1_2D+Tst0.reshape((Ny,Nx)),r\"T pour $t={}\\Delta t$\".format(i*100)))\n",
    "for i in range(2,m//1000+1):\n",
    "    res = puissance_log(B_inv,i*1000)\n",
    "    T1 = np.dot(res,lastT)\n",
    "    T1_2D  = T1.reshape((4*ny-1,4*nx+1))\n",
    "    l.append(image3D(T1_2D,r\"Ttr pour $t={}\\Delta t$\".format(i*1000))) # ajouter l'image à la liste\n",
    "    l_T.append(image3D(T1_2D+Tst0.reshape((Ny,Nx)),r\"T pour $t={}\\Delta t$\".format(i*1000)))\n",
    "for i in range(2,5):\n",
    "    res = puissance_log(B_inv,i*10000)\n",
    "    T1 = np.dot(res,lastT)\n",
    "    T1_2D  = T1.reshape((4*ny-1,4*nx+1))\n",
    "    l.append(image3D(T1_2D,r\"Ttr pour $t={}\\Delta t$\".format(i*10000))) # ajouter l'image à la liste\n",
    "    l_T.append(image3D(T1_2D+Tst0.reshape((Ny,Nx)),r\"T pour $t={}\\Delta t$\".format(i*10000)))\n",
    "\n",
    "print(\"Terminé avec succés\")"
   ]
  },
  {
   "cell_type": "code",
   "execution_count": null,
   "metadata": {},
   "outputs": [],
   "source": [
    "#visualisation de Ttr\n",
    "title = r\"Ttr pour $t={}$\".format(m)\n",
    "#show3D(T1_2D,title)\n",
    "name = \"Température_transitoire_implicite\"\n",
    "#l=rotate3D(T1_2D,title)\n",
    "animate3D(l,name,fps=10.0)\n",
    "img =Image('./'+name+'.gif')\n",
    "display(img)"
   ]
  },
  {
   "cell_type": "code",
   "execution_count": null,
   "metadata": {},
   "outputs": [],
   "source": [
    "#visualisation de T\n",
    "title = r\"T pour $t={}$\".format(m)\n",
    "#show3D(T1_2D,title)\n",
    "name = \"Température_implicite\"\n",
    "#l=rotate3D(T1_2D,title)\n",
    "animate3D(l_T,name,fps=10.0)\n",
    "img =Image('./'+name+'.gif')\n",
    "display(img)"
   ]
  },
  {
   "cell_type": "markdown",
   "metadata": {
    "colab": {},
    "colab_type": "code",
    "id": "GFl_kAs7qeHW"
   },
   "source": [
    "# 5.Etude du problème inverse\n",
    "Dans cette seconde partie, on suppose que l’on cherche à chauffer le cuisson à une temérature idéale de cuisson $T_{c}$. Pour cela, on va déterminer les valeurs des résistances $r_{1}, r_{2}, ...., r_{N_{r}}$ qui permettent d’obtenir une température aussi proche que possible de $T_{c}$. On rappelle que, par application du principe de linéarité , la température T peut être écrite sous la forme:\n",
    "$$T = T_{st}^{0} + \\sum_{i=0}^{N_{r}} r_{i} T_{st}^{i} $$ \n",
    "où $r_{i}$ est la valeur de la résistance palcée au point d’abscisse $(x_{r_{i}}, y_{r_{i}})$, $T_{st}^{i}$ est la température solution de (2) pour $f_{}i$ une source unitaire en $(x_{r_{i}}, y_{r_{i}})$ et avec conditions de Dirichlet homogènes. Une température la plus proche possible de $T^{c}$ dans l’objet à cuire $\\Omega_{c}$ est celle qui minimise la fonction :\n",
    "$$r \\in \\mathbb{R} ^{N_{r}}\\mapsto  J(r) = \\frac{1}{2} \\int_{\\Omega_{c}} (T_{st}^{0} +\\sum_{i=0}^{N_{r}} r_{i} T_{st}^{i} - T^{c} )^{2} = \\frac{1}{2} \\int_{\\frac{L_{x}}{4}}^{\\frac{3L_{x}}{4}}\\int_{\\frac{L_{y}}{4}}^{\\frac{3L_{y}}{4}}  (T_{st}^{0} +\\sum_{i=0}^{N_{r}} r_{i} T_{st}^{i} - T^{c} )^{2}$$ \n",
    "La fonction quadratique objectif $J$ est telle que :\n",
    "$$ J(r) $ \\frac{1}{1}(\\tilde(A)r,r) -(\\tilde{b},r)+c,$$\n",
    "avec la marice $\\tilde{A} =(a_{ij}) \\in M_{N_{r}}(\\mathbb{R})$, le vecteur $\\tilde{b}\\in \\mathbb{R} ^{N_{r}}$ et le réel $c$ sont donnés par :\n",
    "$$ a_{ij} = \\int_{\\Omega_{c}} T_{st}^{i}.T_{st}^{j} $$ \n",
    "$$b_{i} = \\int_{\\Omega_{c}} (T_{st}^{0}-T^{c})T_{st}^{i} $$\n",
    "$$ c = \\frac{1}{2}\\int_{\\Omega_{c}}(T_{st}^{0}-T^{c})^{2} $$\n",
    "### Montrons que $\\tilde{A}$ est symétrique définie positive \n",
    "#### Symétrique :\n",
    "On $a_{ij} = a_{ij}$ grâce à la commutativité du produit scalaire donc la matrice $ \\tilde{A}$ est symétrique .\n",
    "#### Positive :\n",
    "On pose $\\tilde{T}_{st}(x) = (T_{st}^{1},...,T_{st}^{N_{r}}) \\in \\mathbb{R}^{N_{r}}$  \n",
    "et on définie l'intégrale d'une matrice comme la matrice est intégrales des composantes et donc on obtient que :\n",
    "$$ \\tilde{A} = \\int_{\\Omega_{c}} \\tilde{T}_{st}(x)^{T}.\\tilde{T}_{st}(x) $$ \n",
    "donc pour démontrer que $\\tilde{A}$ est symétrique , soit $ r \\in M_{N_{r},1}(\\mathbb{R}) $ et on calcule :\n",
    "$$ (\\tilde{A}r,r) = r^{T}.\\tilde{A}r = \\int_{\\Omega_{c}} r^{T}T_{st}(x)^{T}.T_{st}(x) r dx $$\n",
    "$$ (\\tilde{A}r,r) = r^{T}.\\tilde{A}r = \\int_{\\Omega_{c}} (T_{st}(x)r)^{T}.T_{st}(x) r dx $$\n",
    "$$ (\\tilde{A}r,r) = r^{T}.\\tilde{A}r = \\int_{\\Omega_{c}} ||T_{st}(x) r||^{2} dx $$\n",
    "Donc la matrice est bien positive car l'intégrale d\"une fonction continue positive est positive \n",
    "#### Définie :\n",
    "On va démontrer que si $(\\tilde{A}r,r)=0$ alors $r=0$\n",
    "\n",
    "D'aprés le calcul précédent  on a :\n",
    "$$ (\\tilde{A}r,r) = r^{T}.\\tilde{A}r = \\int_{\\Omega_{c}} ||T_{st}(x) r||^{2} dx $$\n",
    "qui est  équivalente à :\n",
    "$$ (\\tilde{A}r,r) = r^{T}.\\tilde{A}r =\\int_{\\Omega_{c}}( \\sum_{i=1}^{N_{r}}T_{st}^{i}(x) r_{i})^{2} dx $$\n",
    "Donc ce dernier terme est null si et seuelement si on an  $\\sum_{i=1}^{N_{r}}T_{st}^{i}(x) r_{i} =0$ car ce dernier est continue sur $\\Omega_{c}$ et bien sûr son carré est positive.\n",
    "Ce Problème revient à déomntrer que la famille $(T_{st}^{i})_{1\\leq i \\leq N_{r}}$ est une famille libre , or on a $\\forall i$ \n",
    "$T_{st}^{i}$ vérifie le système 3 de notre problème et donc $\\sum_{i=1}^{N_{r}} r_{i}f_{i}(X)=0$.\n",
    "\n",
    "Si la famille $(T_{st}^{i})_{1\\leq i \\leq N_{r}}$ est liéé alors ça implique que la famille $(f_{i})_{1\\leq i \\leq N_{r}}$ est liée , donc si on démontre que la famille  $(f_{i})_{1\\leq i \\leq N_{r}}$ est libre , on obtient $(T_{st}^{i})_{1\\leq i \\leq N_{r}}$ est libre par contraposition.\n",
    "\n",
    "On a l'expression de $f_{i}$ est donnée  par:\n",
    "$$ f_{i}(x,y) = exp(-\\alpha((x-x_{i})^{2}+(y-y_{i})^{2})), \\alpha \\geq0$$\n",
    "On va démontrer que $(f_{i})_{1\\leq i \\leq N_{r}}$ est libre par récurrence sur $N_{r}$ et pour des pairs $(x_{i},y_{i}) \\ne (x_{j},y_{j})$ pour $i\\ne j$\n",
    "\n",
    "Pour $N_{r}=1$ c'est  évident , on la famille $(f_{1})$ est libre </li>\n",
    "\n",
    "Pour $N_{r} \\in \\mathbb{N}$, on suppose que le résultat est vrai pour $N_{r}$ et on va le déomntrer pour $N_{r}+1$\n",
    "\n",
    "Soit $r_{i} \\in \\mathbb{R}$ pour $ i=1,...,N_{r}+1$ tel que $\\sum_{i=1}^{N_{r}+1} r_{i}f_{i}(x,y)=0$ et montrons que  $r_{i}=0$ pour $ i=1,...,N_{r}+1$\n",
    "\n",
    "S'il existe $1\\leq j \\leq N_{r}+1$ tel que $r_{j}=0$ alors on a $\\sum_{i \\ne j}^{N_{r}+1}r_{i}f_{i}(x,y)=0$ ce qui donne d'aprés l\"hypothèse de récurrence que $r_{i} =0$ $\\forall$ $i\\ne j$ car la famille $(f_{i})_{1\\leq i \\leq N_{r}+1,i\\ne j}$ de taille $N_{r}$ donc libre et par suite $r=(r_{1},..,r_{N_{r}+1})=0$\n",
    "\n",
    "\n",
    "Sinon on pose $x_{0}=\\max_{\\{1\\leq i \\leq N_{r}+1\\}}(x_{i})$ et $i_{0}$ tel que $x_{i_{0}} = x_{0}$ et $y_{i_{0}} = \\max \\{y_{i} /x_{i}=x_{0} ,1 \\leq i \\leq N_{r}+1 \\}$ , puisque les pairs $(x_{i},y_{i}) \\ne (x_{j},y_{j})$ pour $i\\ne j$ alors il'y a qu'un seul entier $i_{0}$ qui vérifie les deux conditions.On a :\n",
    "$$ \\sum_{i=0}^{N_{r}+1} r_{i}exp(-\\alpha((x-x_{i})^{2}+(y-y_{i})^{2}))$$ \n",
    "on divise l'expression par $exp(-\\alpha((x-x_{i_{0}})^{2}+(y-y_{i_{0}})^{2}))$ on obtient :\n",
    "$$ r_{i_{0}}+\\sum_{i!=i_{0}}^{N_{r}+1} r_{i}exp(-\\alpha((2x-x_{i}-x_{i_{0}})(x_{i_{0}}-x_{i})+(2y-y_{i}-y_{i_{0}})(y_{i_{0}}-y_{i})))$$\n",
    "Alors si on tend d'abord $x \\to + \\infty $ puis on tend $y \\to + \\infty$ on obtient en premier lieu un terme null pour chaque $i$ tel que $x_{i} \\lt x_{i_{0}}$ et en deuxième lieu pour les indices $i$ tel que $x_{i} = x_{i_{0}}$ et $y_{i} \\lt y_{i_{0}}$, enfin l'expression devient :\n",
    "$$ r_{i_{0}} = 0 $$\n",
    "ce qui est absurde car on a supposé que $r_{i} \\ne 0$ $\\forall$ $i$ d'ou on conclut que la famille $(f_{i})_{1\\leq i \\leq N_{r}+1}$ est libre.\n",
    "\n",
    "Conclusion : la famille $(f_{i})_{1\\leq i \\leq N_{r}}$ est libre lorsque les pairs d'indices $(x_{i},y_{i})$ sont distincts deux à deux.\n",
    "\n",
    "Enfin , on conclut que si $(\\tilde{A}r,r)=0$ alors nécessairement $r=0$ d'où la matrice $\\tilde{A}$ est définie.\n",
    " \n",
    "\n",
    "\n",
    "### Calcul des intégrales:\n",
    "Pour calculer les intégrales on va utiliser une méthode numérique qui correspond à la méthode des trapèzes  dont la formule est la suivante:\n",
    "$$ \\int_{x_{1}}^{x_{2}}\\int_{y_{1}}^{y_{2}} f(x,y) dy dx = \\frac{(x_{2}-x_{1})(y_{2}-y_{1})}{4} (f(x_{1},y_{1})+f(x_{1},y_{2})+f(x_{2},y_{1})+f(x_{2},y_{2}))$$\n",
    "et par suite l'intégrale d'une fonction $f(x,y)$ sur $\\Omega_{c}$ est donné par :\n",
    "$$ \\int_{\\Omega_{c}}f(x,y) dxdy = \\frac{h_{x}h_{y}}{4}\\sum_{i=0}^{2n_{x}-1}\\sum_{j=0}^{2n_{y}-1} \n",
    "f(n_{x}+i.hx,n_{y}+j.h_{y})+\n",
    "f(n_{x}+i.hx,n_{y}+(j+1).h_{y})+\n",
    "f(n_{x}+(i+1).hx,n_{y}+j.h_{y})+\n",
    "f(n_{x}+(i+1).hx,n_{y}+(j+1).h_{y})$$\n",
    "Le code des fonctions :"
   ]
  },
  {
   "cell_type": "code",
   "execution_count": null,
   "metadata": {},
   "outputs": [],
   "source": [
    "#fonction pour la position\n",
    "def h(i,j):\n",
    "    return (j-1)*(4*nx+1)+i;\n",
    "#calcul de aij:\n",
    "def calcul_aij(Ti,Tj):\n",
    "    ans=0.0\n",
    "    for i in range(2*nx):\n",
    "        for j in range(2*ny):\n",
    "            posi = nx+i\n",
    "            posj = ny+j\n",
    "            terme1 = Ti[h(posi,posj),0]*Tj[h(posi,posj),0]\n",
    "            terme2 = Ti[h(posi,posj+1),0]*Tj[h(posi,posj+1),0]\n",
    "            terme3 = Ti[h(posi+1,posj),0]*Tj[h(posi+1,posj),0]\n",
    "            terme4 = Ti[h(posi+1,posj+1),0]*Tj[h(posi+1,posj+1),0]\n",
    "            ans+=(hx*hy/4)*(terme1+terme2+terme3+terme4)\n",
    "    return ans\n",
    "#calcul de A_tilde\n",
    "def calcul_A(l_T):\n",
    "    #l_T est une liste qui contient les Tst_i\n",
    "    A_tilde = np.zeros((len(l_T),len(l_T)))\n",
    "    for i in range(len(l_T)):\n",
    "        for j in range(i,len(l_T)):\n",
    "            if(i==j):\n",
    "                A_tilde[i,j]=calcul_aij(l_T[i],l_T[i])\n",
    "            else :\n",
    "                A_tilde[i,j]=A_tilde[j,i]=calcul_aij(l_T[i],l_T[j])\n",
    "    return A_tilde\n",
    "#calcul de bi\n",
    "def calcul_bi(Ti,T0,Tc):\n",
    "    ans=0.0\n",
    "    for i in range(2*nx):\n",
    "        for j in range(2*ny):\n",
    "            posi = nx+i\n",
    "            posj = ny+j\n",
    "            terme1 = (T0[h(posi,posj),0]-Tc)*Ti[h(posi,posj),0]\n",
    "            terme2 = (T0[h(posi,posj+1),0]-Tc)*Ti[h(posi,posj+1),0]\n",
    "            terme3 = (T0[h(posi+1,posj),0]-Tc)*Ti[h(posi+1,posj),0]\n",
    "            terme4 = (T0[h(posi+1,posj+1),0]-Tc)*Ti[h(posi+1,posj+1),0]\n",
    "            ans+=(hx*hy/4)*(terme1+terme2+terme3+terme4)\n",
    "    return ans\n",
    "#calcul de b tilde\n",
    "def calcul_b(l_T,T0,Tc):\n",
    "    b_tilde = np.zeros((len(l_T),1))\n",
    "    for i in range(len(l_T)):\n",
    "        b_tilde[i,0]=calcul_bi(l_T[i],T0,Tc)\n",
    "    return b_tilde\n",
    "# calcul de  l'erreur : \n",
    "def calcul_e(T,Tc):\n",
    "    ans=0.0\n",
    "    for i in range(2*nx):\n",
    "        for j in range(2*ny):\n",
    "            posi = nx+i\n",
    "            posj = ny+j\n",
    "            terme1 = (T[h(posi,posj),0]-Tc)**2\n",
    "            terme2 = (T[h(posi,posj+1),0]-Tc)**2\n",
    "            terme3 = (T[h(posi+1,posj),0]-Tc)**2\n",
    "            terme4 = (T[h(posi+1,posj+1),0]-Tc)**2\n",
    "            ans+=(hx*hy/4)*(terme1+terme2+terme3+terme4)\n",
    "    return ans\n",
    "    "
   ]
  },
  {
   "cell_type": "markdown",
   "metadata": {},
   "source": [
    "Comme la matrice $\\tilde{A}$ est symétrique définie positive,, alors $r = \\begin{pmatrix} r_{1} \\\\ \\vdots \\\\ r_{N_{r}}\\end{pmatrix}$ est minimum de $J$ sur $ \\mathbb{R}^{N_{r}}$ si et seuelement si $r$ est solution de système $\\tilde{A}r = \\tilde{b}$\n",
    "\n",
    "En pratique, on prend $T^{c} = 250$. Connaissant $T_{st}^{0}$, on suit les étapes suivantes :\n",
    "<ul>\n",
    "    <li>On fixe le nombre $N_{r}$ et la position de chaque résistance.</li>\n",
    "    <li>On calcule numériquement les températures $T_{st}^{i}, i =1,...,N_{r} $</li>\n",
    "    <li>On calcule la matrice $\\tilde{A}$ et le second membre $\\tilde{b}$</li>\n",
    "    <li>On résout le sysème $\\tilde{A}r = \\tilde{b}$ pour obtenir $r = \\begin{pmatrix} r_{1} \\\\ \\vdots \\\\ r_{N_{r}}\\end{pmatrix}$ optimal </li>\n",
    "</ul>"
   ]
  },
  {
   "cell_type": "markdown",
   "metadata": {},
   "source": [
    "### $1^{er}$ cas :\n",
    "On pose $N_{r}=1$ et $X_{r_{1}} = (0.2L_{x},0.2L_{y})$"
   ]
  },
  {
   "cell_type": "code",
   "execution_count": null,
   "metadata": {},
   "outputs": [],
   "source": [
    "T_c = 250\n",
    "Nr = 1 # on fixe le nombre des résistances\n",
    "positions = [(0.2*Lx,0.2*Ly)]\n",
    "l_T = [] # pour stocker les Tst_i\n",
    "for i in range(Nr):\n",
    "    Fi = calc_F(positions[i])\n",
    "    Ti = resout_sparse(A,Fi)\n",
    "    Ti = Ti.reshape((Ti.shape[0],1))\n",
    "    l_T.append(Ti)\n",
    "A_tilde = calcul_A(l_T) # calcul de A tilde\n",
    "Tst0=Tst0.reshape((Tst0.shape[0],1))\n",
    "b_tilde = calcul_b(l_T,Tst0,T_c) # calcul de b tilde\n",
    "r = resout_sparse(A_tilde,-b_tilde) # résolution de système\n",
    "r= r.reshape((Nr,1))\n",
    "T_opt  = np.copy(Tst0) \n",
    "for i in range(Nr):\n",
    "    T_opt += r[i,0]*l_T[i] # calcul de T finale\n",
    "erreur = calcul_e(T_opt,T_c)\n",
    "print(\"l'erreur est égale à  : \", erreur)\n"
   ]
  },
  {
   "cell_type": "code",
   "execution_count": null,
   "metadata": {},
   "outputs": [],
   "source": [
    "#visulatlisation de la solution\n",
    "T_2D_opt  = T_opt.reshape((4*ny-1,4*nx+1)) # température dans le plan 2D privé de gamma 1 et gamma 3\n",
    "#ajout de gamma1 et gamma 3 dans la matrice de la température\n",
    "gamma1 = Tb * np.ones((1,4*nx+1),dtype=float)\n",
    "gamma3 = Th * np.ones((1,4*nx+1),dtype=float)\n",
    "T_2D_opt = np.concatenate((gamma1, T_2D_opt), axis = 0)\n",
    "T_2D_opt = np.concatenate((T_2D_opt, gamma3), axis = 0);\n",
    "#schéma\n",
    "title=(r\"Température optimale avec $T^{c}=250$\")\n",
    "#show3D(T_2D,title)\n",
    "name = \"Température_stationnaire_optimale_avec_1_résistance\"\n",
    "l=rotate3D(T_2D_opt,title)\n",
    "animate3D(l,name)\n",
    "img =Image('./'+name+'.gif')\n",
    "display(img)"
   ]
  },
  {
   "cell_type": "code",
   "execution_count": null,
   "metadata": {},
   "outputs": [],
   "source": [
    "#les résistance optimales sont :\n",
    "print(r)"
   ]
  },
  {
   "cell_type": "markdown",
   "metadata": {},
   "source": [
    "### $2^{ème}$ cas :\n",
    "On pose $N_{r}=4$ et $,X_{r_{1}} = (0.2L_{x},0.2L_{y}),X_{r_{2}} = (0.8L_{x},0.2L_{y}),X_{r_{3}} = (0.8L_{x},0.8L_{y}),X_{r_{4}} = (0.2L_{x},0.8L_{y})$"
   ]
  },
  {
   "cell_type": "code",
   "execution_count": null,
   "metadata": {},
   "outputs": [],
   "source": [
    "T_c = 250\n",
    "Nr =4 # on fixe le nombre des résistances\n",
    "positions = [(0.2*Lx,0.2*Ly),(0.8*Lx,0.2*Ly),(0.8*Lx,0.8*Ly),(0.2*Lx,0.8*Ly)]\n",
    "l_T = [] # pour stocker les Tst_i\n",
    "for i in range(Nr):\n",
    "    Fi = calc_F(positions[i])\n",
    "    Ti = resout_sparse(A,Fi)\n",
    "    Ti = Ti.reshape((Ti.shape[0],1))\n",
    "    l_T.append(Ti)\n",
    "A_tilde = calcul_A(l_T) # calcul de A tilde\n",
    "Tst0=Tst0.reshape((Tst0.shape[0],1))\n",
    "b_tilde = calcul_b(l_T,Tst0,T_c) # calcul de b tilde\n",
    "r = resout_sparse(A_tilde,-b_tilde) # résolution de système\n",
    "r= r.reshape((Nr,1))\n",
    "T_opt  = np.copy(Tst0) \n",
    "for i in range(Nr):\n",
    "    T_opt += r[i,0]*l_T[i] # calcul de T finale\n",
    "erreur = calcul_e(T_opt,T_c)\n",
    "print(\"l'erreur est égale à  : \", erreur)\n"
   ]
  },
  {
   "cell_type": "code",
   "execution_count": null,
   "metadata": {},
   "outputs": [],
   "source": [
    "#visulatlisation de la solution\n",
    "T_2D_opt  = T_opt.reshape((4*ny-1,4*nx+1)) # température dans le plan 2D privé de gamma 1 et gamma 3\n",
    "#ajout de gamma1 et gamma 3 dans la matrice de la température\n",
    "gamma1 = Tb * np.ones((1,4*nx+1),dtype=float)\n",
    "gamma3 = Th * np.ones((1,4*nx+1),dtype=float)\n",
    "T_2D_opt = np.concatenate((gamma1, T_2D_opt), axis = 0)\n",
    "T_2D_opt = np.concatenate((T_2D_opt, gamma3), axis = 0);\n",
    "#schéma\n",
    "title=(r\"Température optimale avec $T^{c}=250$\")\n",
    "#show3D(T_2D,title)\n",
    "name = \"Température_stationnaire_optimale_avec_4_résistance\"\n",
    "l=rotate3D(T_2D_opt,title)\n",
    "animate3D(l,name)\n",
    "img =Image('./'+name+'.gif')\n",
    "display(img)"
   ]
  },
  {
   "cell_type": "code",
   "execution_count": null,
   "metadata": {},
   "outputs": [],
   "source": [
    "#les résistance optimales sont :\n",
    "print(r)"
   ]
  },
  {
   "cell_type": "markdown",
   "metadata": {},
   "source": [
    "### $3^{ème}$ cas :\n",
    "On pose $N_{r}=6$ et $X_{r_{1}} = (0.2L_{x},0.2L_{y}),X_{r_{2}} = (0.5L_{x},0.2L_{y}),X_{r_{3}} = (0.8L_{x},0.2L_{y}),X_{r_{4}} = (0.8L_{x},0.8L_{y}),X_{r_{5}} = (0.5L_{x},0.8L_{y}),X_{r_{6}} = (0.2L_{x},0.8L_{y})$"
   ]
  },
  {
   "cell_type": "code",
   "execution_count": null,
   "metadata": {},
   "outputs": [],
   "source": [
    "T_c = 250\n",
    "Nr =6 # on fixe le nombre des résistances\n",
    "positions = [(0.2*Lx,0.2*Ly),(0.5*Lx,0.2*Ly),(0.8*Lx,0.2*Ly),(0.8*Lx,0.8*Ly),(0.5*Lx,0.8*Ly),(0.2*Lx,0.8*Ly)]\n",
    "l_T = [] # pour stocker les Tst_i\n",
    "for i in range(Nr):\n",
    "    Fi = calc_F(positions[i])\n",
    "    Ti = resout_sparse(A,Fi)\n",
    "    Ti = Ti.reshape((Ti.shape[0],1))\n",
    "    l_T.append(Ti)\n",
    "A_tilde = calcul_A(l_T) # calcul de A tilde\n",
    "Tst0=Tst0.reshape((Tst0.shape[0],1))\n",
    "b_tilde = calcul_b(l_T,Tst0,T_c) # calcul de b tilde\n",
    "r = resout_sparse(A_tilde,-b_tilde) # résolution de système\n",
    "r= r.reshape((Nr,1))\n",
    "T_opt  = np.copy(Tst0) \n",
    "for i in range(Nr):\n",
    "    T_opt += r[i,0]*l_T[i] # calcul de T finale\n",
    "erreur = calcul_e(T_opt,T_c)\n",
    "print(\"l'erreur est égale à  : \", erreur)\n"
   ]
  },
  {
   "cell_type": "code",
   "execution_count": null,
   "metadata": {},
   "outputs": [],
   "source": [
    "#visulatlisation de la solution\n",
    "T_2D_opt  = T_opt.reshape((4*ny-1,4*nx+1)) # température dans le plan 2D privé de gamma 1 et gamma 3\n",
    "#ajout de gamma1 et gamma 3 dans la matrice de la température\n",
    "gamma1 = Tb * np.ones((1,4*nx+1),dtype=float)\n",
    "gamma3 = Th * np.ones((1,4*nx+1),dtype=float)\n",
    "T_2D_opt = np.concatenate((gamma1, T_2D_opt), axis = 0)\n",
    "T_2D_opt = np.concatenate((T_2D_opt, gamma3), axis = 0);\n",
    "#schéma\n",
    "title=(r\"Température optimale avec $T^{c}=250$\")\n",
    "#show3D(T_2D,title)\n",
    "name = \"Température_stationnaire_optimale_avec_6_résistance\"\n",
    "l=rotate3D(T_2D_opt,title)\n",
    "animate3D(l,name)\n",
    "img =Image('./'+name+'.gif')\n",
    "display(img)"
   ]
  },
  {
   "cell_type": "code",
   "execution_count": null,
   "metadata": {},
   "outputs": [],
   "source": [
    "#les résistance optimales sont :\n",
    "print(r)"
   ]
  },
  {
   "cell_type": "markdown",
   "metadata": {},
   "source": [
    "## Conclusion :\n",
    "On constate que l'erreur diminiue lorsque on augment le nombre de résistances , et l'erreur est trés faible pour ces 6 résistances , donc si on place 6 résistances au maximum  c'est suffisant pour avoir un température $T^{c}$ presque constante dans $\\Omega_{c}$."
   ]
  },
  {
   "cell_type": "code",
   "execution_count": null,
   "metadata": {},
   "outputs": [],
   "source": []
  }
 ],
 "metadata": {
  "accelerator": "GPU",
  "colab": {
   "collapsed_sections": [],
   "name": "cheikhrouhou_mahdi_pb_four_st.ipynb",
   "provenance": []
  },
  "kernelspec": {
   "display_name": "Python 3",
   "language": "python",
   "name": "python3"
  },
  "language_info": {
   "codemirror_mode": {
    "name": "ipython",
    "version": 3
   },
   "file_extension": ".py",
   "mimetype": "text/x-python",
   "name": "python",
   "nbconvert_exporter": "python",
   "pygments_lexer": "ipython3",
   "version": "3.7.4"
  }
 },
 "nbformat": 4,
 "nbformat_minor": 1
}
